{
 "cells": [
  {
   "cell_type": "code",
   "execution_count": 48,
   "metadata": {},
   "outputs": [],
   "source": [
    "results = {\n",
    "    'folds': []\n",
    "}"
   ]
  },
  {
   "cell_type": "code",
   "execution_count": 45,
   "metadata": {},
   "outputs": [
    {
     "data": {
      "text/plain": [
       "{'folds': [{'fold': 9, 'epochs': ['i']}]}"
      ]
     },
     "execution_count": 45,
     "metadata": {},
     "output_type": "execute_result"
    }
   ],
   "source": [
    "results"
   ]
  },
  {
   "cell_type": "code",
   "execution_count": 49,
   "metadata": {},
   "outputs": [],
   "source": [
    "for fold in range(10):\n",
    "    fold_results = {\n",
    "        'fold': fold,\n",
    "        'epochs': ['i']\n",
    "    }\n",
    "\n",
    "    results['folds'].append(fold_results)"
   ]
  },
  {
   "cell_type": "code",
   "execution_count": 50,
   "metadata": {},
   "outputs": [
    {
     "data": {
      "text/plain": [
       "{'folds': [{'fold': 0, 'epochs': ['i']},\n",
       "  {'fold': 1, 'epochs': ['i']},\n",
       "  {'fold': 2, 'epochs': ['i']},\n",
       "  {'fold': 3, 'epochs': ['i']},\n",
       "  {'fold': 4, 'epochs': ['i']},\n",
       "  {'fold': 5, 'epochs': ['i']},\n",
       "  {'fold': 6, 'epochs': ['i']},\n",
       "  {'fold': 7, 'epochs': ['i']},\n",
       "  {'fold': 8, 'epochs': ['i']},\n",
       "  {'fold': 9, 'epochs': ['i']}]}"
      ]
     },
     "execution_count": 50,
     "metadata": {},
     "output_type": "execute_result"
    }
   ],
   "source": [
    "results"
   ]
  },
  {
   "cell_type": "code",
   "execution_count": null,
   "metadata": {},
   "outputs": [],
   "source": []
  }
 ],
 "metadata": {
  "kernelspec": {
   "display_name": "Python 3",
   "language": "python",
   "name": "python3"
  },
  "language_info": {
   "codemirror_mode": {
    "name": "ipython",
    "version": 3
   },
   "file_extension": ".py",
   "mimetype": "text/x-python",
   "name": "python",
   "nbconvert_exporter": "python",
   "pygments_lexer": "ipython3",
   "version": "3.11.9"
  }
 },
 "nbformat": 4,
 "nbformat_minor": 2
}
