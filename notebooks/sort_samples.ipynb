{
 "cells": [
  {
   "cell_type": "code",
   "execution_count": 1,
   "metadata": {},
   "outputs": [],
   "source": [
    "import os\n",
    "import shutil\n",
    "import re\n",
    "from concurrent.futures import ThreadPoolExecutor"
   ]
  },
  {
   "cell_type": "code",
   "execution_count": 2,
   "metadata": {},
   "outputs": [],
   "source": [
    "image_dir = \"/data/glusterfs/agurianova/rolling-in-the-deep/data/deepvariant/images200k\""
   ]
  },
  {
   "cell_type": "code",
   "execution_count": 32,
   "metadata": {},
   "outputs": [],
   "source": [
    "max_files = 100000\n",
    "\n",
    "# Gather the first 1000 eligible files\n",
    "files_to_process = []\n",
    "with os.scandir(image_dir) as entries:\n",
    "    for entry in entries:\n",
    "        if entry.is_file() and entry.name.endswith(\".png\"):\n",
    "            files_to_process.append(entry.path)\n",
    "            if len(files_to_process) >= max_files:\n",
    "                break\n",
    "\n",
    "def move_file(src_path):\n",
    "    file_name = os.path.basename(src_path)\n",
    "    print(f\"Processing: {file_name}\")\n",
    "    match = re.search(r'_label([012])_', file_name)\n",
    "    if match:\n",
    "        label = match.group(1)\n",
    "        dst_path = os.path.join(image_dir, label, file_name)\n",
    "        shutil.move(src_path, dst_path)\n",
    "    else:\n",
    "        print(f\"Label not found for: {file_name}\")\n",
    "\n",
    "# Process files in parallel using threads\n",
    "with ThreadPoolExecutor() as executor:\n",
    "    executor.map(move_file, files_to_process)"
   ]
  }
 ],
 "metadata": {
  "kernelspec": {
   "display_name": "Python 3",
   "language": "python",
   "name": "python3"
  },
  "language_info": {
   "codemirror_mode": {
    "name": "ipython",
    "version": 3
   },
   "file_extension": ".py",
   "mimetype": "text/x-python",
   "name": "python",
   "nbconvert_exporter": "python",
   "pygments_lexer": "ipython3",
   "version": "3.11.9"
  }
 },
 "nbformat": 4,
 "nbformat_minor": 2
}
