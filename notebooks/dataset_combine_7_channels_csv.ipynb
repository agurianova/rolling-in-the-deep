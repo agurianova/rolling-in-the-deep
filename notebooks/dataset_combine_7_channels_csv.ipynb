{
 "cells": [
  {
   "cell_type": "code",
   "execution_count": null,
   "metadata": {},
   "outputs": [],
   "source": [
    "import os\n",
    "import csv\n",
    "import pandas as pd\n",
    "from sklearn.model_selection import train_test_split"
   ]
  },
  {
   "cell_type": "code",
   "execution_count": null,
   "metadata": {},
   "outputs": [],
   "source": [
    "def create_csv(root_dir, filename):\n",
    "\n",
    "    rows = [] # store future CSV file rows\n",
    "    for _, class_name in enumerate(sorted(os.listdir(root_dir))):\n",
    "\n",
    "        # lets inspect subdirectories for each class_name\n",
    "        class_dir = os.path.join(root_dir, class_name)\n",
    "        if not os.path.isdir(class_dir): # skip single files\n",
    "            continue\n",
    "        \n",
    "        for file_name in sorted(os.listdir(class_dir)):\n",
    "\n",
    "            # lets find all '_ch1.png' files\n",
    "            if not file_name.endswith('_ch1.png'): \n",
    "                continue\n",
    "            \n",
    "            # extract its basename\n",
    "            basename = file_name.split('_ch1.png')[0]\n",
    "\n",
    "            # list of basenames with different channels\n",
    "            channel_paths = [] \n",
    "            for i in range(1, 8):\n",
    "                path = os.path.join(class_dir, f\"{basename}_ch{i}.png\")\n",
    "                channel_paths.append(path if os.path.exists(path) else '')\n",
    "\n",
    "            # final CSV row\n",
    "            rows.append(channel_paths + [class_name]) \n",
    "\n",
    "    with open(root_dir+filename, mode='w', newline='') as file:\n",
    "        writer = csv.writer(file)\n",
    "        \n",
    "        header = [f'img_ch{i}' for i in range(1, 8)] + ['class']\n",
    "        writer.writerow(header)\n",
    "        \n",
    "        writer.writerows(rows)\n",
    "\n",
    "    \n",
    "\n",
    "def subset_and_split_csv(filename, subset_size, train_size):\n",
    "\n",
    "    df = pd.read_csv(filename)\n",
    "    csv_base, csv_extension = os.path.splitext(filename)\n",
    "\n",
    "    print(\"\\nOriginal class distribution:\")\n",
    "    print(df['class'].value_counts())\n",
    "\n",
    "    # 1. Subset\n",
    "    subset_df, _ = train_test_split(df, train_size=subset_size, stratify=df['class'], random_state=42)\n",
    "    subset_filename = csv_base + '_subset_' + str(subset_size) + csv_extension\n",
    "    subset_df.to_csv(subset_filename, index=False)\n",
    "\n",
    "    print(\"\\nSubset class distribution:\")\n",
    "    print(subset_df['class'].value_counts())\n",
    "\n",
    "    # 2. Split\n",
    "    train_df, val_df = train_test_split(subset_df, train_size=train_size, stratify=subset_df['class'], random_state=42)\n",
    "\n",
    "    train_filename = csv_base + '_subset_' + str(subset_size) + '_train_' + str(train_size) + csv_extension\n",
    "    val_filename = csv_base + '_subset_' + str(subset_size) + '_val_' + str(1-train_size) + csv_extension\n",
    "    train_df.to_csv(train_filename, index=False)\n",
    "    val_df.to_csv(val_filename, index=False)\n",
    "\n",
    "    print(\"\\nTraining set class distribution:\")\n",
    "    print(train_df['class'].value_counts())\n",
    "\n",
    "    print(\"\\nValidation set class distribution:\")\n",
    "    print(val_df['class'].value_counts())"
   ]
  },
  {
   "cell_type": "code",
   "execution_count": 5,
   "metadata": {},
   "outputs": [],
   "source": [
    "os.chdir('..')"
   ]
  },
  {
   "cell_type": "code",
   "execution_count": null,
   "metadata": {},
   "outputs": [
    {
     "name": "stdout",
     "output_type": "stream",
     "text": [
      "CSV file created at data/deepvariant/data.csv\n"
     ]
    }
   ],
   "source": [
    "create_csv(root_dir = 'data/deepvariant/', filename='data.csv')\n",
    "subset_and_split_csv(filename = 'data/deepvariant/data.csv', subset_size = 1000, train_size = 0.8)"
   ]
  }
 ],
 "metadata": {
  "kernelspec": {
   "display_name": "Python 3",
   "language": "python",
   "name": "python3"
  },
  "language_info": {
   "codemirror_mode": {
    "name": "ipython",
    "version": 3
   },
   "file_extension": ".py",
   "mimetype": "text/x-python",
   "name": "python",
   "nbconvert_exporter": "python",
   "pygments_lexer": "ipython3",
   "version": "3.11.9"
  }
 },
 "nbformat": 4,
 "nbformat_minor": 2
}
