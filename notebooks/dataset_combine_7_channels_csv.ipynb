{
 "cells": [
  {
   "cell_type": "code",
   "execution_count": 31,
   "metadata": {},
   "outputs": [],
   "source": [
    "import os\n",
    "import csv\n",
    "import pandas as pd\n",
    "from tqdm import tqdm\n",
    "from sklearn.model_selection import train_test_split"
   ]
  },
  {
   "cell_type": "code",
   "execution_count": 14,
   "metadata": {},
   "outputs": [],
   "source": [
    "os.chdir('/home/agurianova/projects/rolling-in-the-deep/')"
   ]
  },
  {
   "cell_type": "code",
   "execution_count": 30,
   "metadata": {},
   "outputs": [],
   "source": [
    "def create_csv(root_dir, filename):\n",
    "\n",
    "    rows = [] # store future CSV file rows\n",
    "    for _, class_name in enumerate(sorted(os.listdir(root_dir))):\n",
    "\n",
    "        # lets inspect subdirectories for each class_name\n",
    "        class_dir = os.path.join(root_dir, class_name)\n",
    "        if not os.path.isdir(class_dir): # skip single files\n",
    "            continue\n",
    "        \n",
    "        for file_name in sorted(os.listdir(class_dir)):\n",
    "\n",
    "            # lets find all '_ch1.png' files\n",
    "            if not file_name.endswith('_ch1.png'): \n",
    "                continue\n",
    "            \n",
    "            # extract its basename\n",
    "            basename = file_name.split('_ch1.png')[0]\n",
    "\n",
    "            # list of basenames with different channels\n",
    "            channel_paths = [] \n",
    "            for i in range(1, 8):\n",
    "                path = os.path.join(class_dir, f\"{basename}_ch{i}.png\")\n",
    "                channel_paths.append(path if os.path.exists(path) else '')\n",
    "\n",
    "            # final CSV row\n",
    "            rows.append(channel_paths + [class_name]) \n",
    "\n",
    "    with open(root_dir+filename, mode='w', newline='') as file:\n",
    "        writer = csv.writer(file)\n",
    "        \n",
    "        header = [f'img_ch{i}' for i in range(1, 8)] + ['class']\n",
    "        writer.writerow(header)\n",
    "        \n",
    "        writer.writerows(rows)\n",
    "\n",
    "    \n",
    "\n",
    "def subset_and_split_csv(filename, subset_size, train_size):\n",
    "\n",
    "    df = pd.read_csv(filename)\n",
    "    csv_base, csv_extension = os.path.splitext(filename)\n",
    "\n",
    "    print(\"\\nOriginal class distribution:\")\n",
    "    print(df['class'].value_counts())\n",
    "\n",
    "    # 1. Subset\n",
    "    subset_df, _ = train_test_split(df, train_size=subset_size, stratify=df['class'], random_state=42)\n",
    "    #subset_df = df # for 20000\n",
    "    subset_filename = csv_base + '_subset_' + str(subset_size) + csv_extension\n",
    "    subset_df.to_csv(subset_filename, index=False)\n",
    "\n",
    "    print(\"\\nSubset class distribution:\")\n",
    "    print(subset_df['class'].value_counts())\n",
    "\n",
    "    # 2. Split\n",
    "    #train_df, val_df = train_test_split(subset_df, train_size=train_size, stratify=subset_df['class'], random_state=42)\n",
    "\n",
    "    #train_filename = csv_base + '_subset_' + str(subset_size) + '_train_' + str(round(train_size,1)) + csv_extension\n",
    "    #val_filename = csv_base + '_subset_' + str(subset_size) + '_val_' + str(round(1-train_size,1)) + csv_extension\n",
    "    #train_df.to_csv(train_filename, index=False)\n",
    "    #val_df.to_csv(val_filename, index=False)\n",
    "\n",
    "    #print(\"\\nTraining set class distribution:\")\n",
    "    #print(train_df['class'].value_counts())\n",
    "\n",
    "    #print(\"\\nValidation set class distribution:\")\n",
    "    #print(val_df['class'].value_counts())"
   ]
  },
  {
   "cell_type": "code",
   "execution_count": 25,
   "metadata": {},
   "outputs": [],
   "source": [
    "def create_csv_optimized(root_dir, filename):\n",
    "    output_path = os.path.join(root_dir, filename)\n",
    "    \n",
    "    with open(output_path, mode='w', newline='') as file:\n",
    "        writer = csv.writer(file)\n",
    "        header = [f'img_ch{i}' for i in range(1, 8)] + ['class']\n",
    "        writer.writerow(header)\n",
    "\n",
    "        class_dirs = [entry for entry in os.scandir(root_dir) if entry.is_dir()]\n",
    "        \n",
    "        for class_entry in class_dirs:\n",
    "            class_name = class_entry.name\n",
    "            class_dir = class_entry.path\n",
    "            print(f\"Class name: {class_name}\")\n",
    "\n",
    "            all_files = {entry.name for entry in os.scandir(class_dir) if entry.is_file()}\n",
    "            ch1_files = [name for name in all_files if name.endswith('_ch1.png')]\n",
    "\n",
    "            for ch1_file in tqdm(ch1_files, desc=class_name, leave=False):\n",
    "                basename = ch1_file[:-8]\n",
    "                row = []\n",
    "                for i in range(1, 8):\n",
    "                    filename = f\"{basename}_ch{i}.png\"\n",
    "                    path = os.path.join(class_dir, filename) if filename in all_files else ''\n",
    "                    row.append(path)\n",
    "                row.append(class_name)\n",
    "                writer.writerow(row)\n"
   ]
  },
  {
   "cell_type": "code",
   "execution_count": 26,
   "metadata": {},
   "outputs": [
    {
     "name": "stdout",
     "output_type": "stream",
     "text": [
      "Class name: 2\n"
     ]
    },
    {
     "name": "stderr",
     "output_type": "stream",
     "text": [
      "                                                           \r"
     ]
    },
    {
     "name": "stdout",
     "output_type": "stream",
     "text": [
      "Class name: 0\n"
     ]
    },
    {
     "name": "stderr",
     "output_type": "stream",
     "text": [
      "                                           \r"
     ]
    },
    {
     "name": "stdout",
     "output_type": "stream",
     "text": [
      "Class name: 1\n"
     ]
    },
    {
     "name": "stderr",
     "output_type": "stream",
     "text": [
      "                                                             \r"
     ]
    }
   ],
   "source": [
    "root_dir = 'data/deepvariant/images200k'\n",
    "filename = 'data.csv'\n",
    "create_csv_optimized(root_dir, filename)"
   ]
  },
  {
   "cell_type": "code",
   "execution_count": 29,
   "metadata": {},
   "outputs": [
    {
     "name": "stdout",
     "output_type": "stream",
     "text": [
      "203036\n",
      "203035\n"
     ]
    }
   ],
   "source": [
    "df = pd.read_csv(\"data/deepvariant/images200k/data.csv\")\n",
    "print(df.shape[0])\n",
    "df.replace('', pd.NA, inplace=True)\n",
    "df_clean = df.dropna()\n",
    "print(df_clean.shape[0])\n",
    "df_clean.to_csv(\"data/deepvariant/images200k/data.csv\", index=False)"
   ]
  },
  {
   "cell_type": "code",
   "execution_count": 3,
   "metadata": {},
   "outputs": [],
   "source": [
    "os.chdir('..')"
   ]
  },
  {
   "cell_type": "code",
   "execution_count": 15,
   "metadata": {},
   "outputs": [
    {
     "name": "stdout",
     "output_type": "stream",
     "text": [
      "\n",
      "Original class distribution:\n",
      "class\n",
      "1    11664\n",
      "2     8140\n",
      "0      196\n",
      "Name: count, dtype: int64\n",
      "\n",
      "Subset class distribution:\n",
      "class\n",
      "1    11664\n",
      "2     8140\n",
      "0      196\n",
      "Name: count, dtype: int64\n",
      "\n",
      "Training set class distribution:\n",
      "class\n",
      "1    9331\n",
      "2    6512\n",
      "0     157\n",
      "Name: count, dtype: int64\n",
      "\n",
      "Validation set class distribution:\n",
      "class\n",
      "1    2333\n",
      "2    1628\n",
      "0      39\n",
      "Name: count, dtype: int64\n"
     ]
    }
   ],
   "source": [
    "#create_csv(root_dir = 'data/deepvariant/', filename='data.csv')\n",
    "subset_and_split_csv(filename = 'data/deepvariant/data.csv', subset_size = 20000, train_size = 0.8)"
   ]
  },
  {
   "cell_type": "code",
   "execution_count": 33,
   "metadata": {},
   "outputs": [
    {
     "name": "stdout",
     "output_type": "stream",
     "text": [
      "\n",
      "Original class distribution:\n",
      "class\n",
      "1    121514\n",
      "2     79810\n",
      "0      1711\n",
      "Name: count, dtype: int64\n",
      "\n",
      "Subset class distribution:\n",
      "class\n",
      "1    23940\n",
      "2    15723\n",
      "0      337\n",
      "Name: count, dtype: int64\n"
     ]
    }
   ],
   "source": [
    "#create_csv(root_dir = 'data/deepvariant/', filename='data.csv')\n",
    "subset_and_split_csv(filename = 'data/deepvariant/images200k/data.csv', subset_size = 40000, train_size = 0.8)"
   ]
  },
  {
   "cell_type": "markdown",
   "metadata": {},
   "source": [
    "# Check if files in dataset are unique"
   ]
  },
  {
   "cell_type": "code",
   "execution_count": 6,
   "metadata": {},
   "outputs": [],
   "source": [
    "df = pd.read_csv(\"data/deepvariant/data.csv\")"
   ]
  },
  {
   "cell_type": "code",
   "execution_count": 7,
   "metadata": {},
   "outputs": [],
   "source": [
    "# extract the middle part of the string\n",
    "# \"data/deepvariant/0/image_chr1:104427287_G->AAA_label0_ch1.png\"\n",
    "df['middle_part'] = df['img_ch1'].str.extract(r'image_(.*?)(_ch1\\.png)')[0]"
   ]
  },
  {
   "cell_type": "code",
   "execution_count": 9,
   "metadata": {},
   "outputs": [
    {
     "data": {
      "text/plain": [
       "True"
      ]
     },
     "execution_count": 9,
     "metadata": {},
     "output_type": "execute_result"
    }
   ],
   "source": [
    "df['middle_part'].is_unique"
   ]
  }
 ],
 "metadata": {
  "kernelspec": {
   "display_name": "Python 3",
   "language": "python",
   "name": "python3"
  },
  "language_info": {
   "codemirror_mode": {
    "name": "ipython",
    "version": 3
   },
   "file_extension": ".py",
   "mimetype": "text/x-python",
   "name": "python",
   "nbconvert_exporter": "python",
   "pygments_lexer": "ipython3",
   "version": "3.10.12"
  }
 },
 "nbformat": 4,
 "nbformat_minor": 2
}
