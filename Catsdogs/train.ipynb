{
 "cells": [
  {
   "cell_type": "markdown",
   "metadata": {},
   "source": [
    "Here is a training pipeline to classify cats and dogs using three NN.\n",
    "\n",
    "What is below?\n",
    "- 🪇 Add libraries and training pipeline [train()].\n",
    "- 🪻 Choose a model (EfficientNet, RegNet, VIT) and run train(), intermediate metrics will be stored in TensorBoard.\n",
    "\n",
    "If you are curious about Class Activation Map please see it at the end."
   ]
  },
  {
   "cell_type": "markdown",
   "metadata": {},
   "source": [
    "# 🪇 Set up"
   ]
  },
  {
   "cell_type": "markdown",
   "metadata": {},
   "source": [
    "## Libs"
   ]
  },
  {
   "cell_type": "code",
   "execution_count": 1,
   "metadata": {},
   "outputs": [
    {
     "name": "stderr",
     "output_type": "stream",
     "text": [
      "/opt/homebrew/lib/python3.11/site-packages/tqdm/auto.py:21: TqdmWarning: IProgress not found. Please update jupyter and ipywidgets. See https://ipywidgets.readthedocs.io/en/stable/user_install.html\n",
      "  from .autonotebook import tqdm as notebook_tqdm\n"
     ]
    }
   ],
   "source": [
    "# Standard \n",
    "import os\n",
    "import random\n",
    "import glob\n",
    "import time\n",
    "import numpy as np\n",
    "from PIL import Image\n",
    "from tqdm import tqdm\n",
    "\n",
    "# PyTorch\n",
    "import torch\n",
    "import torch.nn as nn\n",
    "import torch.nn.functional as F\n",
    "import torch.optim as optim\n",
    "from torch.utils.tensorboard import SummaryWriter\n",
    "from torchsummary import summary\n",
    "\n",
    "# PyTorch Vision \n",
    "import torchvision\n",
    "import torchvision.transforms as transforms\n",
    "\n",
    "# Models and Grad-CAM\n",
    "import timm\n",
    "from efficientnet_pytorch import EfficientNet\n",
    "from vit_pytorch.efficient import ViT\n",
    "from linformer import Linformer\n",
    "from pytorch_grad_cam import GradCAM\n",
    "from pytorch_grad_cam.utils.image import show_cam_on_image\n",
    "\n",
    "# Scikit-learn for metrics\n",
    "from sklearn.metrics import precision_score, recall_score, f1_score\n",
    "\n",
    "# Visualization \n",
    "import matplotlib.pyplot as plt\n",
    "\n",
    "# Device Configuration (CPU/GPU)\n",
    "# Uncomment depending on the device availability\n",
    "# device = (\"cuda\" if torch.cuda.is_available() else \"cpu\")\n",
    "# device = (\"mps\" if torch.backends.mps.is_available() else \"cpu\")\n",
    "device = 'cpu'\n",
    "\n",
    "def seed_everything(seed):\n",
    "    random.seed(seed)\n",
    "    os.environ['PYTHONHASHSEED'] = str(seed)\n",
    "    np.random.seed(seed)\n",
    "    torch.manual_seed(seed)\n",
    "    torch.cuda.manual_seed(seed)\n",
    "    torch.cuda.manual_seed_all(seed)\n",
    "    torch.backends.cudnn.deterministic = True"
   ]
  },
  {
   "cell_type": "code",
   "execution_count": null,
   "metadata": {},
   "outputs": [
    {
     "data": {
      "text/plain": [
       "'/Users/lune/ISP/rolling-in-the-deep'"
      ]
     },
     "execution_count": 5,
     "metadata": {},
     "output_type": "execute_result"
    }
   ],
   "source": [
    "#os.chdir('/Users/lune/ISP/rolling-in-the-deep/')\n",
    "os.getcwd()"
   ]
  },
  {
   "cell_type": "markdown",
   "metadata": {},
   "source": [
    "## Training pipeline"
   ]
  },
  {
   "cell_type": "code",
   "execution_count": 6,
   "metadata": {},
   "outputs": [],
   "source": [
    "def train(data_dir, data_subset_size, data_train_fraction, data_augmentation, dataloader_batch_size, dataloader_num_workers, train_model, train_num_epochs, train_learning_rate, train_tensorboard, train_tensorboard_dir):\n",
    "\n",
    "    # ⚙️ Settings #############################################################################################################\n",
    "    ## Seed\n",
    "    seed_everything(seed = 42)\n",
    "    ## Device configuration\n",
    "    device = torch.device('cuda' if torch.cuda.is_available() else 'cpu')\n",
    "    #📍 Tensorboard\n",
    "    if train_tensorboard:\n",
    "        writer = SummaryWriter(train_tensorboard_dir)\n",
    "\n",
    "\n",
    "    # 🗂 Dataset ##############################################################################################################\n",
    "    ## Dataset--------------------------------------------------------------------------\n",
    "    dataset = torchvision.datasets.ImageFolder(data_dir)\n",
    "\n",
    "    ## Subset\n",
    "    indices = torch.randperm(len(dataset)).tolist()\n",
    "    subset_indices = indices[:data_subset_size]\n",
    "    subset_dataset = torch.utils.data.Subset(dataset, subset_indices)\n",
    "\n",
    "    ## Split\n",
    "    train_size = int(data_train_fraction * len(subset_dataset))  # 80% for training\n",
    "    val_size = len(subset_dataset) - train_size   # 20% for validation\n",
    "    train_dataset, val_dataset = torch.utils.data.random_split(subset_dataset, [train_size, val_size])\n",
    "\n",
    "    ## Augmentation\n",
    "\n",
    "    transform = torchvision.transforms.Compose([torchvision.transforms.Resize((224, 224)),\n",
    "                                                torchvision.transforms.ToTensor(),\n",
    "                                                torchvision.transforms.Normalize([0.485, 0.456, 0.406], [0.229, 0.224, 0.225])\n",
    "                                             ])\n",
    "\n",
    "    transform_augmented = transforms.Compose([\n",
    "            transforms.RandomResizedCrop(224, scale=(0.8, 1.0)),  # Random crop and resize\n",
    "            transforms.RandomHorizontalFlip(),                    # Randomly flip images horizontally\n",
    "            transforms.RandomRotation(15),                        # Randomly rotate within ±15 degrees\n",
    "            transforms.ColorJitter(brightness=0.2, contrast=0.2, saturation=0.2, hue=0.1), # Color adjustments\n",
    "            transforms.ToTensor(),\n",
    "            transforms.Normalize(mean=[0.485, 0.456, 0.406], std=[0.229, 0.224, 0.225])  # Normalize to pre-trained model standards\n",
    "        ])\n",
    "\n",
    "    if data_augmentation:\n",
    "        train_dataset = torch.utils.data.Subset(torchvision.datasets.ImageFolder(data_dir, transform=transform_augmented), train_dataset.indices)\n",
    "        val_dataset = torch.utils.data.Subset(torchvision.datasets.ImageFolder(data_dir, transform=transform), val_dataset.indices)\n",
    "    else:\n",
    "        train_dataset = torch.utils.data.Subset(torchvision.datasets.ImageFolder(data_dir, transform=transform), train_dataset.indices)\n",
    "        val_dataset = torch.utils.data.Subset(torchvision.datasets.ImageFolder(data_dir, transform=transform), val_dataset.indices)\n",
    "\n",
    "\n",
    "    ## DataLoader--------------------------------------------------------------------------\n",
    "    train_loader = torch.utils.data.DataLoader(train_dataset, batch_size=dataloader_batch_size, shuffle=True, num_workers=dataloader_num_workers)\n",
    "    val_loader = torch.utils.data.DataLoader(val_dataset, batch_size=dataloader_batch_size, shuffle=False, num_workers=dataloader_num_workers)  \n",
    "\n",
    "    #📍 Tensorboard (one batch)\n",
    "    if train_tensorboard:\n",
    "        examples = iter(train_loader)\n",
    "        example_data, example_labels = next(examples)\n",
    "\n",
    "    #📍 Tensorboard \n",
    "    if train_tensorboard:\n",
    "        img_grid = torchvision.utils.make_grid(example_data, nrow=4, normalize=True)\n",
    "        writer.add_image('train/img_1st_batch', img_grid)\n",
    "\n",
    "\n",
    "    # 🪷 Model #################################################################################################################\n",
    "    ## Model-------------------------------------------------------------------------------\n",
    "    model = train_model\n",
    "    model.to(device)\n",
    "\n",
    "    ### Model info\n",
    "    params = list(model.parameters())\n",
    "    num_tr_params = sum(p.numel() for p in model.parameters() if p.requires_grad)\n",
    "    model_size = sum(p.numel() for p in model.parameters() if p.requires_grad) * 4 / (1024 ** 2)  # Size in MB\n",
    "    print(f'{num_tr_params} train parameters in {len(params)} groups, model size is {model_size:.1f} MB')\n",
    "\n",
    "    #📍 Tensorboard\n",
    "    if train_tensorboard:\n",
    "        writer.add_graph(model, example_data.to(device))\n",
    "        writer.add_text('model_info', f'{num_tr_params} train parameters in {len(params)} groups, model size is {model_size:.1f} MB')\n",
    "\n",
    "    \n",
    "    ## Training hyperparameters-------------------------------------------------------------\n",
    "    ### Criterion (Loss)\n",
    "    criterion = torch.nn.CrossEntropyLoss()\n",
    "    ### Optimizer\n",
    "    optimizer = torch.optim.Adam(model.parameters(), lr=train_learning_rate) \n",
    "    ### Scheduler\n",
    "    sch_gamma = 0.1\n",
    "    sch_step_size = 5\n",
    "    scheduler = torch.optim.lr_scheduler.StepLR(optimizer, step_size=sch_step_size, gamma=sch_gamma)\n",
    "\n",
    "\n",
    "\n",
    "    # 🪻 Training ##############################################################################################################\n",
    "    for epoch in range(train_num_epochs):\n",
    "        print(f'Epoch {epoch+1}')\n",
    "\n",
    "        # Training loop----------------------------------------------------------------\n",
    "        start_time = time.time()\n",
    "\n",
    "        model.train() \n",
    "\n",
    "        running_loss = 0.0\n",
    "        all_preds = []\n",
    "        all_labels = []\n",
    "\n",
    "        for batch, (inputs, labels) in enumerate(tqdm(train_loader)):\n",
    "\n",
    "            inputs, labels = inputs.to(device), labels.to(device)\n",
    "\n",
    "            # forward pass\n",
    "            optimizer.zero_grad() # clears old gradients \n",
    "            outputs = model(inputs) \n",
    "            loss = criterion(outputs, labels) \n",
    "\n",
    "            # backward pass\n",
    "            loss.backward() # compute the gradient\n",
    "            optimizer.step() # updates the models weights using the gradient\n",
    "\n",
    "            # record metrics (loss and prediction)\n",
    "            running_loss += loss.item()\n",
    "            _, preds = torch.max(outputs.data, 1)\n",
    "            all_preds.extend(preds.cpu().numpy())\n",
    "            all_labels.extend(labels.cpu().numpy())\n",
    "\n",
    "        # epoch metrics\n",
    "        loss = running_loss / len(train_loader)\n",
    "        accuracy = (torch.tensor(all_preds) == torch.tensor(all_labels)).sum().item() / len(all_labels)\n",
    "        precision = precision_score(all_labels, all_preds, average='macro')\n",
    "        recall = recall_score(all_labels, all_preds, average='macro')\n",
    "        f1 = f1_score(all_labels, all_preds, average='macro')\n",
    "\n",
    "        running_loss = 0.0 \n",
    "        all_preds = []\n",
    "        all_labels = []\n",
    "\n",
    "        end_time = time.time()\n",
    "        inference_time = (end_time - start_time)/60\n",
    "\n",
    "        print(f'[Epoch {epoch+1}/{train_num_epochs}, Training loss: {loss:.3f}, accuracy: {accuracy:.3f}, precision: {precision:.3f}, recall: {recall:.3f}, f1: {f1:.3f}, time: {inference_time:.1f} min')\n",
    "\n",
    "        # 📍 Tensorboard\n",
    "        if train_tensorboard:\n",
    "            writer.add_scalar('train/loss', loss, epoch+1)\n",
    "            writer.add_scalar('train/accuracy' , accuracy, epoch+1)\n",
    "            writer.add_scalar('train/precision', precision, epoch+1)\n",
    "            writer.add_scalar('train/recall' , recall, epoch+1)\n",
    "            writer.add_scalar('train/f1', f1, epoch+1)\n",
    "            writer.add_scalar('train/time', inference_time, epoch+1)\n",
    "                \n",
    "            #probability\n",
    "            #writer.add_figure('probability',\n",
    "            #                   plot_classes_preds(model, inputs, labels),\n",
    "            #                   global_step=epoch)  \n",
    "\n",
    "            #for name, param in model.named_parameters():\n",
    "            #    if param.requires_grad:\n",
    "            #        layer_name = name\n",
    "            #        writer.add_histogram(f'{layer_name}/weights', param, epoch+1)\n",
    "            #        writer.add_histogram(f'{layer_name}/gradients', param.grad, epoch+1)\n",
    "\n",
    "        # Validation loop----------------------------------------------------------------\n",
    "        model.eval()\n",
    "\n",
    "        running_loss = 0.0\n",
    "        all_preds = []\n",
    "        all_labels = []\n",
    "\n",
    "        # 📍 Tensorboard misclassified\n",
    "        if train_tensorboard:\n",
    "            misclassified_images = []\n",
    "            misclassified_labels = []\n",
    "\n",
    "        with torch.no_grad():\n",
    "            for batch, (inputs, labels) in enumerate(tqdm(val_loader)):\n",
    "                inputs, labels = inputs.to(device), labels.to(device)\n",
    "\n",
    "                # forward pass\n",
    "                outputs = model(inputs) \n",
    "                loss = criterion(outputs, labels) \n",
    "\n",
    "                # record metrics (loss and prediction)\n",
    "                running_loss += loss.item()\n",
    "                _, preds = torch.max(outputs.data, 1)\n",
    "                all_preds.extend(preds.cpu().numpy())\n",
    "                all_labels.extend(labels.cpu().numpy())\n",
    "\n",
    "                # 📍 Tensorboard misclassified\n",
    "                if train_tensorboard:\n",
    "                    misclassified_mask = preds != labels\n",
    "                    if misclassified_mask.sum() > 0:\n",
    "                        misclassified_images.extend(inputs[misclassified_mask].cpu())\n",
    "                        misclassified_labels.extend(preds[misclassified_mask].cpu().numpy())\n",
    "\n",
    "        loss = running_loss / len(val_loader)\n",
    "        accuracy = (torch.tensor(all_preds) == torch.tensor(all_labels)).sum().item() / len(all_labels)\n",
    "        precision = precision_score(all_labels, all_preds, average='macro')\n",
    "        recall = recall_score(all_labels, all_preds, average='macro')\n",
    "        f1 = f1_score(all_labels, all_preds, average='macro')\n",
    "\n",
    "        running_loss = 0.0 \n",
    "        all_preds = []\n",
    "        all_labels = []\n",
    "\n",
    "        print(f'[Epoch {epoch + 1}/{train_num_epochs}, Validation loss: {loss:.3f}, accuracy: {accuracy:.3f}, precision: {precision:.3f}, recall: {recall:.3f}, f1: {f1:.3f}')\n",
    "\n",
    "        # 📍 Tensorboard\n",
    "        if train_tensorboard:\n",
    "            writer.add_scalar('val/loss', loss, epoch+1)\n",
    "            writer.add_scalar('val/accuracy' , accuracy, epoch+1)\n",
    "            writer.add_scalar('val/precision', precision, epoch+1)\n",
    "            writer.add_scalar('val/recall' , recall, epoch+1)\n",
    "            writer.add_scalar('val/f1', f1, epoch+1)\n",
    "\n",
    "            if len(misclassified_images) > 0:\n",
    "                grid = torchvision.utils.make_grid(misclassified_images, nrow=4, normalize=True)\n",
    "                writer.add_image(f'val/misclassified_images/epoch_{epoch+1}', grid, epoch+1)\n",
    "\n",
    "        scheduler.step() # adjust the learning rate\n",
    "        \n",
    "    writer.close()"
   ]
  },
  {
   "cell_type": "markdown",
   "metadata": {},
   "source": [
    "# 🪻 Training"
   ]
  },
  {
   "cell_type": "code",
   "execution_count": 7,
   "metadata": {},
   "outputs": [],
   "source": [
    "cur_epochs = 10\n",
    "cur_subset = 300"
   ]
  },
  {
   "cell_type": "markdown",
   "metadata": {},
   "source": [
    "## EfficientNet"
   ]
  },
  {
   "cell_type": "markdown",
   "metadata": {},
   "source": [
    "### b0"
   ]
  },
  {
   "cell_type": "code",
   "execution_count": null,
   "metadata": {},
   "outputs": [],
   "source": [
    "#print(timm.list_models('*efficientnet_b*'))"
   ]
  },
  {
   "cell_type": "code",
   "execution_count": 67,
   "metadata": {},
   "outputs": [
    {
     "name": "stdout",
     "output_type": "stream",
     "text": [
      "4010110 train parameters in 213 groups, model size is 15.3 MB\n",
      "Epoch 1\n"
     ]
    },
    {
     "name": "stderr",
     "output_type": "stream",
     "text": [
      "100%|██████████| 8/8 [01:15<00:00,  9.43s/it]\n",
      "/opt/homebrew/lib/python3.11/site-packages/sklearn/metrics/_classification.py:1469: UndefinedMetricWarning: Recall is ill-defined and being set to 0.0 in labels with no true samples. Use `zero_division` parameter to control this behavior.\n",
      "  _warn_prf(average, modifier, msg_start, len(result))\n"
     ]
    },
    {
     "name": "stdout",
     "output_type": "stream",
     "text": [
      "[Epoch 1/20, Training loss: 0.214, accuracy: 0.925, precision: 0.500, recall: 0.463, f1: 0.481, time: 1.3 min\n"
     ]
    },
    {
     "name": "stderr",
     "output_type": "stream",
     "text": [
      "100%|██████████| 2/2 [00:18<00:00,  9.07s/it]\n"
     ]
    },
    {
     "name": "stdout",
     "output_type": "stream",
     "text": [
      "[Epoch 1/20, Validation loss: 0.001, accuracy: 1.000, precision: 1.000, recall: 1.000, f1: 1.000\n",
      "Epoch 2\n"
     ]
    },
    {
     "name": "stderr",
     "output_type": "stream",
     "text": [
      "100%|██████████| 8/8 [01:12<00:00,  9.06s/it]\n",
      "/opt/homebrew/lib/python3.11/site-packages/sklearn/metrics/_classification.py:1469: UndefinedMetricWarning: Recall is ill-defined and being set to 0.0 in labels with no true samples. Use `zero_division` parameter to control this behavior.\n",
      "  _warn_prf(average, modifier, msg_start, len(result))\n"
     ]
    },
    {
     "name": "stdout",
     "output_type": "stream",
     "text": [
      "[Epoch 2/20, Training loss: 0.009, accuracy: 0.996, precision: 0.500, recall: 0.498, f1: 0.499, time: 1.2 min\n"
     ]
    },
    {
     "name": "stderr",
     "output_type": "stream",
     "text": [
      "100%|██████████| 2/2 [00:17<00:00,  8.96s/it]\n"
     ]
    },
    {
     "name": "stdout",
     "output_type": "stream",
     "text": [
      "[Epoch 2/20, Validation loss: 0.000, accuracy: 1.000, precision: 1.000, recall: 1.000, f1: 1.000\n",
      "Epoch 3\n"
     ]
    },
    {
     "name": "stderr",
     "output_type": "stream",
     "text": [
      "100%|██████████| 8/8 [01:13<00:00,  9.25s/it]\n"
     ]
    },
    {
     "name": "stdout",
     "output_type": "stream",
     "text": [
      "[Epoch 3/20, Training loss: 0.001, accuracy: 1.000, precision: 1.000, recall: 1.000, f1: 1.000, time: 1.2 min\n"
     ]
    },
    {
     "name": "stderr",
     "output_type": "stream",
     "text": [
      "100%|██████████| 2/2 [00:18<00:00,  9.08s/it]\n"
     ]
    },
    {
     "name": "stdout",
     "output_type": "stream",
     "text": [
      "[Epoch 3/20, Validation loss: 0.000, accuracy: 1.000, precision: 1.000, recall: 1.000, f1: 1.000\n",
      "Epoch 4\n"
     ]
    },
    {
     "name": "stderr",
     "output_type": "stream",
     "text": [
      "100%|██████████| 8/8 [01:14<00:00,  9.26s/it]\n"
     ]
    },
    {
     "name": "stdout",
     "output_type": "stream",
     "text": [
      "[Epoch 4/20, Training loss: 0.000, accuracy: 1.000, precision: 1.000, recall: 1.000, f1: 1.000, time: 1.2 min\n"
     ]
    },
    {
     "name": "stderr",
     "output_type": "stream",
     "text": [
      "100%|██████████| 2/2 [00:17<00:00,  8.90s/it]\n"
     ]
    },
    {
     "name": "stdout",
     "output_type": "stream",
     "text": [
      "[Epoch 4/20, Validation loss: 0.000, accuracy: 1.000, precision: 1.000, recall: 1.000, f1: 1.000\n",
      "Epoch 5\n"
     ]
    },
    {
     "name": "stderr",
     "output_type": "stream",
     "text": [
      "100%|██████████| 8/8 [01:12<00:00,  9.08s/it]\n"
     ]
    },
    {
     "name": "stdout",
     "output_type": "stream",
     "text": [
      "[Epoch 5/20, Training loss: 0.000, accuracy: 1.000, precision: 1.000, recall: 1.000, f1: 1.000, time: 1.2 min\n"
     ]
    },
    {
     "name": "stderr",
     "output_type": "stream",
     "text": [
      "100%|██████████| 2/2 [00:18<00:00,  9.09s/it]\n"
     ]
    },
    {
     "name": "stdout",
     "output_type": "stream",
     "text": [
      "[Epoch 5/20, Validation loss: 0.000, accuracy: 1.000, precision: 1.000, recall: 1.000, f1: 1.000\n",
      "Epoch 6\n"
     ]
    },
    {
     "name": "stderr",
     "output_type": "stream",
     "text": [
      "100%|██████████| 8/8 [01:11<00:00,  9.00s/it]\n"
     ]
    },
    {
     "name": "stdout",
     "output_type": "stream",
     "text": [
      "[Epoch 6/20, Training loss: 0.001, accuracy: 1.000, precision: 1.000, recall: 1.000, f1: 1.000, time: 1.2 min\n"
     ]
    },
    {
     "name": "stderr",
     "output_type": "stream",
     "text": [
      "100%|██████████| 2/2 [00:17<00:00,  8.88s/it]\n"
     ]
    },
    {
     "name": "stdout",
     "output_type": "stream",
     "text": [
      "[Epoch 6/20, Validation loss: 0.000, accuracy: 1.000, precision: 1.000, recall: 1.000, f1: 1.000\n",
      "Epoch 7\n"
     ]
    },
    {
     "name": "stderr",
     "output_type": "stream",
     "text": [
      "100%|██████████| 8/8 [01:13<00:00,  9.14s/it]\n"
     ]
    },
    {
     "name": "stdout",
     "output_type": "stream",
     "text": [
      "[Epoch 7/20, Training loss: 0.000, accuracy: 1.000, precision: 1.000, recall: 1.000, f1: 1.000, time: 1.2 min\n"
     ]
    },
    {
     "name": "stderr",
     "output_type": "stream",
     "text": [
      "100%|██████████| 2/2 [00:17<00:00,  8.98s/it]\n"
     ]
    },
    {
     "name": "stdout",
     "output_type": "stream",
     "text": [
      "[Epoch 7/20, Validation loss: 0.000, accuracy: 1.000, precision: 1.000, recall: 1.000, f1: 1.000\n",
      "Epoch 8\n"
     ]
    },
    {
     "name": "stderr",
     "output_type": "stream",
     "text": [
      "100%|██████████| 8/8 [01:12<00:00,  9.00s/it]\n"
     ]
    },
    {
     "name": "stdout",
     "output_type": "stream",
     "text": [
      "[Epoch 8/20, Training loss: 0.000, accuracy: 1.000, precision: 1.000, recall: 1.000, f1: 1.000, time: 1.2 min\n"
     ]
    },
    {
     "name": "stderr",
     "output_type": "stream",
     "text": [
      "100%|██████████| 2/2 [00:17<00:00,  8.91s/it]\n"
     ]
    },
    {
     "name": "stdout",
     "output_type": "stream",
     "text": [
      "[Epoch 8/20, Validation loss: 0.000, accuracy: 1.000, precision: 1.000, recall: 1.000, f1: 1.000\n",
      "Epoch 9\n"
     ]
    },
    {
     "name": "stderr",
     "output_type": "stream",
     "text": [
      "100%|██████████| 8/8 [01:12<00:00,  9.01s/it]\n"
     ]
    },
    {
     "name": "stdout",
     "output_type": "stream",
     "text": [
      "[Epoch 9/20, Training loss: 0.000, accuracy: 1.000, precision: 1.000, recall: 1.000, f1: 1.000, time: 1.2 min\n"
     ]
    },
    {
     "name": "stderr",
     "output_type": "stream",
     "text": [
      "100%|██████████| 2/2 [00:17<00:00,  8.90s/it]\n"
     ]
    },
    {
     "name": "stdout",
     "output_type": "stream",
     "text": [
      "[Epoch 9/20, Validation loss: 0.000, accuracy: 1.000, precision: 1.000, recall: 1.000, f1: 1.000\n",
      "Epoch 10\n"
     ]
    },
    {
     "name": "stderr",
     "output_type": "stream",
     "text": [
      "100%|██████████| 8/8 [01:11<00:00,  8.94s/it]\n"
     ]
    },
    {
     "name": "stdout",
     "output_type": "stream",
     "text": [
      "[Epoch 10/20, Training loss: 0.000, accuracy: 1.000, precision: 1.000, recall: 1.000, f1: 1.000, time: 1.2 min\n"
     ]
    },
    {
     "name": "stderr",
     "output_type": "stream",
     "text": [
      "100%|██████████| 2/2 [00:17<00:00,  8.89s/it]\n"
     ]
    },
    {
     "name": "stdout",
     "output_type": "stream",
     "text": [
      "[Epoch 10/20, Validation loss: 0.000, accuracy: 1.000, precision: 1.000, recall: 1.000, f1: 1.000\n",
      "Epoch 11\n"
     ]
    },
    {
     "name": "stderr",
     "output_type": "stream",
     "text": [
      "100%|██████████| 8/8 [01:10<00:00,  8.82s/it]\n"
     ]
    },
    {
     "name": "stdout",
     "output_type": "stream",
     "text": [
      "[Epoch 11/20, Training loss: 0.000, accuracy: 1.000, precision: 1.000, recall: 1.000, f1: 1.000, time: 1.2 min\n"
     ]
    },
    {
     "name": "stderr",
     "output_type": "stream",
     "text": [
      "100%|██████████| 2/2 [00:17<00:00,  8.87s/it]\n"
     ]
    },
    {
     "name": "stdout",
     "output_type": "stream",
     "text": [
      "[Epoch 11/20, Validation loss: 0.000, accuracy: 1.000, precision: 1.000, recall: 1.000, f1: 1.000\n",
      "Epoch 12\n"
     ]
    },
    {
     "name": "stderr",
     "output_type": "stream",
     "text": [
      "100%|██████████| 8/8 [01:13<00:00,  9.20s/it]\n"
     ]
    },
    {
     "name": "stdout",
     "output_type": "stream",
     "text": [
      "[Epoch 12/20, Training loss: 0.000, accuracy: 1.000, precision: 1.000, recall: 1.000, f1: 1.000, time: 1.2 min\n"
     ]
    },
    {
     "name": "stderr",
     "output_type": "stream",
     "text": [
      "100%|██████████| 2/2 [00:17<00:00,  8.97s/it]\n"
     ]
    },
    {
     "name": "stdout",
     "output_type": "stream",
     "text": [
      "[Epoch 12/20, Validation loss: 0.000, accuracy: 1.000, precision: 1.000, recall: 1.000, f1: 1.000\n",
      "Epoch 13\n"
     ]
    },
    {
     "name": "stderr",
     "output_type": "stream",
     "text": [
      "100%|██████████| 8/8 [01:15<00:00,  9.38s/it]\n"
     ]
    },
    {
     "name": "stdout",
     "output_type": "stream",
     "text": [
      "[Epoch 13/20, Training loss: 0.000, accuracy: 1.000, precision: 1.000, recall: 1.000, f1: 1.000, time: 1.3 min\n"
     ]
    },
    {
     "name": "stderr",
     "output_type": "stream",
     "text": [
      "100%|██████████| 2/2 [00:18<00:00,  9.09s/it]\n"
     ]
    },
    {
     "name": "stdout",
     "output_type": "stream",
     "text": [
      "[Epoch 13/20, Validation loss: 0.000, accuracy: 1.000, precision: 1.000, recall: 1.000, f1: 1.000\n",
      "Epoch 14\n"
     ]
    },
    {
     "name": "stderr",
     "output_type": "stream",
     "text": [
      "100%|██████████| 8/8 [01:13<00:00,  9.18s/it]\n"
     ]
    },
    {
     "name": "stdout",
     "output_type": "stream",
     "text": [
      "[Epoch 14/20, Training loss: 0.000, accuracy: 1.000, precision: 1.000, recall: 1.000, f1: 1.000, time: 1.2 min\n"
     ]
    },
    {
     "name": "stderr",
     "output_type": "stream",
     "text": [
      "100%|██████████| 2/2 [00:17<00:00,  8.79s/it]\n"
     ]
    },
    {
     "name": "stdout",
     "output_type": "stream",
     "text": [
      "[Epoch 14/20, Validation loss: 0.000, accuracy: 1.000, precision: 1.000, recall: 1.000, f1: 1.000\n",
      "Epoch 15\n"
     ]
    },
    {
     "name": "stderr",
     "output_type": "stream",
     "text": [
      "100%|██████████| 8/8 [01:09<00:00,  8.69s/it]\n"
     ]
    },
    {
     "name": "stdout",
     "output_type": "stream",
     "text": [
      "[Epoch 15/20, Training loss: 0.000, accuracy: 1.000, precision: 1.000, recall: 1.000, f1: 1.000, time: 1.2 min\n"
     ]
    },
    {
     "name": "stderr",
     "output_type": "stream",
     "text": [
      "100%|██████████| 2/2 [00:17<00:00,  8.81s/it]\n"
     ]
    },
    {
     "name": "stdout",
     "output_type": "stream",
     "text": [
      "[Epoch 15/20, Validation loss: 0.000, accuracy: 1.000, precision: 1.000, recall: 1.000, f1: 1.000\n",
      "Epoch 16\n"
     ]
    },
    {
     "name": "stderr",
     "output_type": "stream",
     "text": [
      "100%|██████████| 8/8 [01:09<00:00,  8.74s/it]\n"
     ]
    },
    {
     "name": "stdout",
     "output_type": "stream",
     "text": [
      "[Epoch 16/20, Training loss: 0.000, accuracy: 1.000, precision: 1.000, recall: 1.000, f1: 1.000, time: 1.2 min\n"
     ]
    },
    {
     "name": "stderr",
     "output_type": "stream",
     "text": [
      "100%|██████████| 2/2 [00:18<00:00,  9.07s/it]\n"
     ]
    },
    {
     "name": "stdout",
     "output_type": "stream",
     "text": [
      "[Epoch 16/20, Validation loss: 0.000, accuracy: 1.000, precision: 1.000, recall: 1.000, f1: 1.000\n",
      "Epoch 17\n"
     ]
    },
    {
     "name": "stderr",
     "output_type": "stream",
     "text": [
      "100%|██████████| 8/8 [01:12<00:00,  9.10s/it]\n"
     ]
    },
    {
     "name": "stdout",
     "output_type": "stream",
     "text": [
      "[Epoch 17/20, Training loss: 0.000, accuracy: 1.000, precision: 1.000, recall: 1.000, f1: 1.000, time: 1.2 min\n"
     ]
    },
    {
     "name": "stderr",
     "output_type": "stream",
     "text": [
      "100%|██████████| 2/2 [00:17<00:00,  8.91s/it]\n"
     ]
    },
    {
     "name": "stdout",
     "output_type": "stream",
     "text": [
      "[Epoch 17/20, Validation loss: 0.000, accuracy: 1.000, precision: 1.000, recall: 1.000, f1: 1.000\n",
      "Epoch 18\n"
     ]
    },
    {
     "name": "stderr",
     "output_type": "stream",
     "text": [
      "100%|██████████| 8/8 [01:12<00:00,  9.10s/it]\n"
     ]
    },
    {
     "name": "stdout",
     "output_type": "stream",
     "text": [
      "[Epoch 18/20, Training loss: 0.000, accuracy: 1.000, precision: 1.000, recall: 1.000, f1: 1.000, time: 1.2 min\n"
     ]
    },
    {
     "name": "stderr",
     "output_type": "stream",
     "text": [
      "100%|██████████| 2/2 [00:17<00:00,  8.89s/it]\n"
     ]
    },
    {
     "name": "stdout",
     "output_type": "stream",
     "text": [
      "[Epoch 18/20, Validation loss: 0.000, accuracy: 1.000, precision: 1.000, recall: 1.000, f1: 1.000\n",
      "Epoch 19\n"
     ]
    },
    {
     "name": "stderr",
     "output_type": "stream",
     "text": [
      "100%|██████████| 8/8 [01:14<00:00,  9.29s/it]\n"
     ]
    },
    {
     "name": "stdout",
     "output_type": "stream",
     "text": [
      "[Epoch 19/20, Training loss: 0.000, accuracy: 1.000, precision: 1.000, recall: 1.000, f1: 1.000, time: 1.2 min\n"
     ]
    },
    {
     "name": "stderr",
     "output_type": "stream",
     "text": [
      "100%|██████████| 2/2 [00:18<00:00,  9.07s/it]\n"
     ]
    },
    {
     "name": "stdout",
     "output_type": "stream",
     "text": [
      "[Epoch 19/20, Validation loss: 0.000, accuracy: 1.000, precision: 1.000, recall: 1.000, f1: 1.000\n",
      "Epoch 20\n"
     ]
    },
    {
     "name": "stderr",
     "output_type": "stream",
     "text": [
      "100%|██████████| 8/8 [01:13<00:00,  9.13s/it]\n"
     ]
    },
    {
     "name": "stdout",
     "output_type": "stream",
     "text": [
      "[Epoch 20/20, Training loss: 0.000, accuracy: 1.000, precision: 1.000, recall: 1.000, f1: 1.000, time: 1.2 min\n"
     ]
    },
    {
     "name": "stderr",
     "output_type": "stream",
     "text": [
      "100%|██████████| 2/2 [00:17<00:00,  8.95s/it]\n"
     ]
    },
    {
     "name": "stdout",
     "output_type": "stream",
     "text": [
      "[Epoch 20/20, Validation loss: 0.000, accuracy: 1.000, precision: 1.000, recall: 1.000, f1: 1.000\n"
     ]
    }
   ],
   "source": [
    "# EfficientNet\n",
    "model = timm.create_model('efficientnet_b0', pretrained=True)\n",
    "num_features = model.classifier.in_features\n",
    "model.classifier = nn.Linear(num_features, 2)\n",
    "\n",
    "train(data_dir='/Users/lune/ISP/rolling-in-the-deep/Datasets/kagglecatsanddogs_5340/PetImages', \n",
    "      data_subset_size=cur_subset, \n",
    "      data_train_fraction=0.8, \n",
    "      data_augmentation=True,\n",
    "      dataloader_batch_size=32, \n",
    "      dataloader_num_workers=4, \n",
    "      train_model = model,\n",
    "      train_num_epochs=cur_epochs, \n",
    "      train_learning_rate=0.001, \n",
    "      train_tensorboard=True,\n",
    "      train_tensorboard_dir='Catsdogs/runs_W4/EfficientNet_b0'\n",
    "      )"
   ]
  },
  {
   "cell_type": "markdown",
   "metadata": {},
   "source": [
    "### b3"
   ]
  },
  {
   "cell_type": "code",
   "execution_count": 69,
   "metadata": {},
   "outputs": [
    {
     "name": "stdout",
     "output_type": "stream",
     "text": [
      "10699306 train parameters in 340 groups, model size is 40.8 MB\n",
      "Epoch 1\n"
     ]
    },
    {
     "name": "stderr",
     "output_type": "stream",
     "text": [
      "100%|██████████| 8/8 [02:23<00:00, 17.99s/it]\n",
      "/opt/homebrew/lib/python3.11/site-packages/sklearn/metrics/_classification.py:1469: UndefinedMetricWarning: Recall is ill-defined and being set to 0.0 in labels with no true samples. Use `zero_division` parameter to control this behavior.\n",
      "  _warn_prf(average, modifier, msg_start, len(result))\n"
     ]
    },
    {
     "name": "stdout",
     "output_type": "stream",
     "text": [
      "[Epoch 1/10, Training loss: 0.193, accuracy: 0.912, precision: 0.500, recall: 0.456, f1: 0.477, time: 2.4 min\n"
     ]
    },
    {
     "name": "stderr",
     "output_type": "stream",
     "text": [
      "100%|██████████| 2/2 [00:21<00:00, 10.75s/it]\n"
     ]
    },
    {
     "name": "stdout",
     "output_type": "stream",
     "text": [
      "[Epoch 1/10, Validation loss: 0.000, accuracy: 1.000, precision: 1.000, recall: 1.000, f1: 1.000\n",
      "Epoch 2\n"
     ]
    },
    {
     "name": "stderr",
     "output_type": "stream",
     "text": [
      "100%|██████████| 8/8 [02:21<00:00, 17.69s/it]\n"
     ]
    },
    {
     "name": "stdout",
     "output_type": "stream",
     "text": [
      "[Epoch 2/10, Training loss: 0.001, accuracy: 1.000, precision: 1.000, recall: 1.000, f1: 1.000, time: 2.4 min\n"
     ]
    },
    {
     "name": "stderr",
     "output_type": "stream",
     "text": [
      "100%|██████████| 2/2 [00:21<00:00, 10.81s/it]\n"
     ]
    },
    {
     "name": "stdout",
     "output_type": "stream",
     "text": [
      "[Epoch 2/10, Validation loss: 0.000, accuracy: 1.000, precision: 1.000, recall: 1.000, f1: 1.000\n",
      "Epoch 3\n"
     ]
    },
    {
     "name": "stderr",
     "output_type": "stream",
     "text": [
      "100%|██████████| 8/8 [02:24<00:00, 18.05s/it]\n"
     ]
    },
    {
     "name": "stdout",
     "output_type": "stream",
     "text": [
      "[Epoch 3/10, Training loss: 0.000, accuracy: 1.000, precision: 1.000, recall: 1.000, f1: 1.000, time: 2.4 min\n"
     ]
    },
    {
     "name": "stderr",
     "output_type": "stream",
     "text": [
      "100%|██████████| 2/2 [00:21<00:00, 10.68s/it]\n"
     ]
    },
    {
     "name": "stdout",
     "output_type": "stream",
     "text": [
      "[Epoch 3/10, Validation loss: 0.000, accuracy: 1.000, precision: 1.000, recall: 1.000, f1: 1.000\n",
      "Epoch 4\n"
     ]
    },
    {
     "name": "stderr",
     "output_type": "stream",
     "text": [
      "100%|██████████| 8/8 [02:23<00:00, 17.96s/it]\n"
     ]
    },
    {
     "name": "stdout",
     "output_type": "stream",
     "text": [
      "[Epoch 4/10, Training loss: 0.000, accuracy: 1.000, precision: 1.000, recall: 1.000, f1: 1.000, time: 2.4 min\n"
     ]
    },
    {
     "name": "stderr",
     "output_type": "stream",
     "text": [
      "100%|██████████| 2/2 [00:21<00:00, 10.88s/it]\n"
     ]
    },
    {
     "name": "stdout",
     "output_type": "stream",
     "text": [
      "[Epoch 4/10, Validation loss: 0.000, accuracy: 1.000, precision: 1.000, recall: 1.000, f1: 1.000\n",
      "Epoch 5\n"
     ]
    },
    {
     "name": "stderr",
     "output_type": "stream",
     "text": [
      "100%|██████████| 8/8 [02:31<00:00, 18.95s/it]\n"
     ]
    },
    {
     "name": "stdout",
     "output_type": "stream",
     "text": [
      "[Epoch 5/10, Training loss: 0.000, accuracy: 1.000, precision: 1.000, recall: 1.000, f1: 1.000, time: 2.5 min\n"
     ]
    },
    {
     "name": "stderr",
     "output_type": "stream",
     "text": [
      "100%|██████████| 2/2 [00:21<00:00, 10.90s/it]\n"
     ]
    },
    {
     "name": "stdout",
     "output_type": "stream",
     "text": [
      "[Epoch 5/10, Validation loss: 0.000, accuracy: 1.000, precision: 1.000, recall: 1.000, f1: 1.000\n",
      "Epoch 6\n"
     ]
    },
    {
     "name": "stderr",
     "output_type": "stream",
     "text": [
      "100%|██████████| 8/8 [02:32<00:00, 19.04s/it]\n"
     ]
    },
    {
     "name": "stdout",
     "output_type": "stream",
     "text": [
      "[Epoch 6/10, Training loss: 0.000, accuracy: 1.000, precision: 1.000, recall: 1.000, f1: 1.000, time: 2.5 min\n"
     ]
    },
    {
     "name": "stderr",
     "output_type": "stream",
     "text": [
      "100%|██████████| 2/2 [00:21<00:00, 10.60s/it]\n"
     ]
    },
    {
     "name": "stdout",
     "output_type": "stream",
     "text": [
      "[Epoch 6/10, Validation loss: 0.000, accuracy: 1.000, precision: 1.000, recall: 1.000, f1: 1.000\n",
      "Epoch 7\n"
     ]
    },
    {
     "name": "stderr",
     "output_type": "stream",
     "text": [
      "100%|██████████| 8/8 [02:27<00:00, 18.38s/it]\n"
     ]
    },
    {
     "name": "stdout",
     "output_type": "stream",
     "text": [
      "[Epoch 7/10, Training loss: 0.000, accuracy: 1.000, precision: 1.000, recall: 1.000, f1: 1.000, time: 2.5 min\n"
     ]
    },
    {
     "name": "stderr",
     "output_type": "stream",
     "text": [
      "100%|██████████| 2/2 [00:21<00:00, 10.82s/it]\n"
     ]
    },
    {
     "name": "stdout",
     "output_type": "stream",
     "text": [
      "[Epoch 7/10, Validation loss: 0.000, accuracy: 1.000, precision: 1.000, recall: 1.000, f1: 1.000\n",
      "Epoch 8\n"
     ]
    },
    {
     "name": "stderr",
     "output_type": "stream",
     "text": [
      "100%|██████████| 8/8 [02:33<00:00, 19.18s/it]\n"
     ]
    },
    {
     "name": "stdout",
     "output_type": "stream",
     "text": [
      "[Epoch 8/10, Training loss: 0.000, accuracy: 1.000, precision: 1.000, recall: 1.000, f1: 1.000, time: 2.6 min\n"
     ]
    },
    {
     "name": "stderr",
     "output_type": "stream",
     "text": [
      "100%|██████████| 2/2 [00:21<00:00, 10.67s/it]\n"
     ]
    },
    {
     "name": "stdout",
     "output_type": "stream",
     "text": [
      "[Epoch 8/10, Validation loss: 0.000, accuracy: 1.000, precision: 1.000, recall: 1.000, f1: 1.000\n",
      "Epoch 9\n"
     ]
    },
    {
     "name": "stderr",
     "output_type": "stream",
     "text": [
      "100%|██████████| 8/8 [02:38<00:00, 19.87s/it]\n"
     ]
    },
    {
     "name": "stdout",
     "output_type": "stream",
     "text": [
      "[Epoch 9/10, Training loss: 0.000, accuracy: 1.000, precision: 1.000, recall: 1.000, f1: 1.000, time: 2.7 min\n"
     ]
    },
    {
     "name": "stderr",
     "output_type": "stream",
     "text": [
      "100%|██████████| 2/2 [00:21<00:00, 10.86s/it]\n"
     ]
    },
    {
     "name": "stdout",
     "output_type": "stream",
     "text": [
      "[Epoch 9/10, Validation loss: 0.000, accuracy: 1.000, precision: 1.000, recall: 1.000, f1: 1.000\n",
      "Epoch 10\n"
     ]
    },
    {
     "name": "stderr",
     "output_type": "stream",
     "text": [
      "100%|██████████| 8/8 [02:38<00:00, 19.85s/it]\n"
     ]
    },
    {
     "name": "stdout",
     "output_type": "stream",
     "text": [
      "[Epoch 10/10, Training loss: 0.000, accuracy: 1.000, precision: 1.000, recall: 1.000, f1: 1.000, time: 2.6 min\n"
     ]
    },
    {
     "name": "stderr",
     "output_type": "stream",
     "text": [
      "100%|██████████| 2/2 [00:21<00:00, 10.82s/it]\n"
     ]
    },
    {
     "name": "stdout",
     "output_type": "stream",
     "text": [
      "[Epoch 10/10, Validation loss: 0.000, accuracy: 1.000, precision: 1.000, recall: 1.000, f1: 1.000\n"
     ]
    }
   ],
   "source": [
    "model = timm.create_model('efficientnet_b3', pretrained=True)\n",
    "num_features = model.classifier.in_features\n",
    "model.classifier = nn.Linear(num_features, 2)\n",
    "\n",
    "train(data_dir='/Users/lune/ISP/rolling-in-the-deep/Datasets/kagglecatsanddogs_5340/PetImages', \n",
    "      data_subset_size=cur_subset, \n",
    "      data_train_fraction=0.8, \n",
    "      data_augmentation=True,\n",
    "      dataloader_batch_size=32, \n",
    "      dataloader_num_workers=4, \n",
    "      train_model = model,\n",
    "      train_num_epochs=cur_epochs, \n",
    "      train_learning_rate=0.001, \n",
    "      train_tensorboard=True,\n",
    "      train_tensorboard_dir='Catsdogs/runs_W4/EfficientNet_b3'\n",
    "      )"
   ]
  },
  {
   "cell_type": "markdown",
   "metadata": {},
   "source": [
    "## RegNet"
   ]
  },
  {
   "cell_type": "markdown",
   "metadata": {},
   "source": [
    "### 002"
   ]
  },
  {
   "cell_type": "code",
   "execution_count": 8,
   "metadata": {},
   "outputs": [
    {
     "name": "stdout",
     "output_type": "stream",
     "text": [
      "2794734 train parameters in 186 groups, model size is 10.7 MB\n",
      "Epoch 1\n"
     ]
    },
    {
     "name": "stderr",
     "output_type": "stream",
     "text": [
      "100%|██████████| 8/8 [00:33<00:00,  4.21s/it]\n",
      "/opt/homebrew/lib/python3.11/site-packages/sklearn/metrics/_classification.py:1469: UndefinedMetricWarning: Recall is ill-defined and being set to 0.0 in labels with no true samples. Use `zero_division` parameter to control this behavior.\n",
      "  _warn_prf(average, modifier, msg_start, len(result))\n"
     ]
    },
    {
     "name": "stdout",
     "output_type": "stream",
     "text": [
      "[Epoch 1/10, Training loss: 0.288, accuracy: 0.833, precision: 0.500, recall: 0.417, f1: 0.455, time: 0.6 min\n"
     ]
    },
    {
     "name": "stderr",
     "output_type": "stream",
     "text": [
      "100%|██████████| 2/2 [00:15<00:00,  7.73s/it]\n"
     ]
    },
    {
     "name": "stdout",
     "output_type": "stream",
     "text": [
      "[Epoch 1/10, Validation loss: 0.001, accuracy: 1.000, precision: 1.000, recall: 1.000, f1: 1.000\n",
      "Epoch 2\n"
     ]
    },
    {
     "name": "stderr",
     "output_type": "stream",
     "text": [
      "100%|██████████| 8/8 [00:33<00:00,  4.17s/it]\n"
     ]
    },
    {
     "name": "stdout",
     "output_type": "stream",
     "text": [
      "[Epoch 2/10, Training loss: 0.001, accuracy: 1.000, precision: 1.000, recall: 1.000, f1: 1.000, time: 0.6 min\n"
     ]
    },
    {
     "name": "stderr",
     "output_type": "stream",
     "text": [
      "100%|██████████| 2/2 [00:16<00:00,  8.08s/it]\n"
     ]
    },
    {
     "name": "stdout",
     "output_type": "stream",
     "text": [
      "[Epoch 2/10, Validation loss: 0.000, accuracy: 1.000, precision: 1.000, recall: 1.000, f1: 1.000\n",
      "Epoch 3\n"
     ]
    },
    {
     "name": "stderr",
     "output_type": "stream",
     "text": [
      "100%|██████████| 8/8 [00:34<00:00,  4.27s/it]\n"
     ]
    },
    {
     "name": "stdout",
     "output_type": "stream",
     "text": [
      "[Epoch 3/10, Training loss: 0.000, accuracy: 1.000, precision: 1.000, recall: 1.000, f1: 1.000, time: 0.6 min\n"
     ]
    },
    {
     "name": "stderr",
     "output_type": "stream",
     "text": [
      "100%|██████████| 2/2 [00:15<00:00,  7.81s/it]\n"
     ]
    },
    {
     "name": "stdout",
     "output_type": "stream",
     "text": [
      "[Epoch 3/10, Validation loss: 0.000, accuracy: 1.000, precision: 1.000, recall: 1.000, f1: 1.000\n",
      "Epoch 4\n"
     ]
    },
    {
     "name": "stderr",
     "output_type": "stream",
     "text": [
      "100%|██████████| 8/8 [00:35<00:00,  4.39s/it]\n"
     ]
    },
    {
     "name": "stdout",
     "output_type": "stream",
     "text": [
      "[Epoch 4/10, Training loss: 0.000, accuracy: 1.000, precision: 1.000, recall: 1.000, f1: 1.000, time: 0.6 min\n"
     ]
    },
    {
     "name": "stderr",
     "output_type": "stream",
     "text": [
      "100%|██████████| 2/2 [00:15<00:00,  7.69s/it]\n"
     ]
    },
    {
     "name": "stdout",
     "output_type": "stream",
     "text": [
      "[Epoch 4/10, Validation loss: 0.000, accuracy: 1.000, precision: 1.000, recall: 1.000, f1: 1.000\n",
      "Epoch 5\n"
     ]
    },
    {
     "name": "stderr",
     "output_type": "stream",
     "text": [
      "100%|██████████| 8/8 [00:33<00:00,  4.16s/it]\n"
     ]
    },
    {
     "name": "stdout",
     "output_type": "stream",
     "text": [
      "[Epoch 5/10, Training loss: 0.000, accuracy: 1.000, precision: 1.000, recall: 1.000, f1: 1.000, time: 0.6 min\n"
     ]
    },
    {
     "name": "stderr",
     "output_type": "stream",
     "text": [
      "100%|██████████| 2/2 [00:15<00:00,  7.67s/it]\n"
     ]
    },
    {
     "name": "stdout",
     "output_type": "stream",
     "text": [
      "[Epoch 5/10, Validation loss: 0.000, accuracy: 1.000, precision: 1.000, recall: 1.000, f1: 1.000\n",
      "Epoch 6\n"
     ]
    },
    {
     "name": "stderr",
     "output_type": "stream",
     "text": [
      "100%|██████████| 8/8 [00:34<00:00,  4.31s/it]\n"
     ]
    },
    {
     "name": "stdout",
     "output_type": "stream",
     "text": [
      "[Epoch 6/10, Training loss: 0.000, accuracy: 1.000, precision: 1.000, recall: 1.000, f1: 1.000, time: 0.6 min\n"
     ]
    },
    {
     "name": "stderr",
     "output_type": "stream",
     "text": [
      "100%|██████████| 2/2 [00:15<00:00,  7.72s/it]\n"
     ]
    },
    {
     "name": "stdout",
     "output_type": "stream",
     "text": [
      "[Epoch 6/10, Validation loss: 0.000, accuracy: 1.000, precision: 1.000, recall: 1.000, f1: 1.000\n",
      "Epoch 7\n"
     ]
    },
    {
     "name": "stderr",
     "output_type": "stream",
     "text": [
      "100%|██████████| 8/8 [00:33<00:00,  4.20s/it]\n"
     ]
    },
    {
     "name": "stdout",
     "output_type": "stream",
     "text": [
      "[Epoch 7/10, Training loss: 0.000, accuracy: 1.000, precision: 1.000, recall: 1.000, f1: 1.000, time: 0.6 min\n"
     ]
    },
    {
     "name": "stderr",
     "output_type": "stream",
     "text": [
      "100%|██████████| 2/2 [00:15<00:00,  7.69s/it]\n"
     ]
    },
    {
     "name": "stdout",
     "output_type": "stream",
     "text": [
      "[Epoch 7/10, Validation loss: 0.000, accuracy: 1.000, precision: 1.000, recall: 1.000, f1: 1.000\n",
      "Epoch 8\n"
     ]
    },
    {
     "name": "stderr",
     "output_type": "stream",
     "text": [
      "100%|██████████| 8/8 [00:33<00:00,  4.13s/it]\n"
     ]
    },
    {
     "name": "stdout",
     "output_type": "stream",
     "text": [
      "[Epoch 8/10, Training loss: 0.000, accuracy: 1.000, precision: 1.000, recall: 1.000, f1: 1.000, time: 0.6 min\n"
     ]
    },
    {
     "name": "stderr",
     "output_type": "stream",
     "text": [
      "100%|██████████| 2/2 [00:15<00:00,  7.60s/it]\n"
     ]
    },
    {
     "name": "stdout",
     "output_type": "stream",
     "text": [
      "[Epoch 8/10, Validation loss: 0.000, accuracy: 1.000, precision: 1.000, recall: 1.000, f1: 1.000\n",
      "Epoch 9\n"
     ]
    },
    {
     "name": "stderr",
     "output_type": "stream",
     "text": [
      "100%|██████████| 8/8 [00:32<00:00,  4.12s/it]\n"
     ]
    },
    {
     "name": "stdout",
     "output_type": "stream",
     "text": [
      "[Epoch 9/10, Training loss: 0.000, accuracy: 1.000, precision: 1.000, recall: 1.000, f1: 1.000, time: 0.6 min\n"
     ]
    },
    {
     "name": "stderr",
     "output_type": "stream",
     "text": [
      "100%|██████████| 2/2 [00:15<00:00,  7.63s/it]\n"
     ]
    },
    {
     "name": "stdout",
     "output_type": "stream",
     "text": [
      "[Epoch 9/10, Validation loss: 0.000, accuracy: 1.000, precision: 1.000, recall: 1.000, f1: 1.000\n",
      "Epoch 10\n"
     ]
    },
    {
     "name": "stderr",
     "output_type": "stream",
     "text": [
      "100%|██████████| 8/8 [00:33<00:00,  4.16s/it]\n"
     ]
    },
    {
     "name": "stdout",
     "output_type": "stream",
     "text": [
      "[Epoch 10/10, Training loss: 0.000, accuracy: 1.000, precision: 1.000, recall: 1.000, f1: 1.000, time: 0.6 min\n"
     ]
    },
    {
     "name": "stderr",
     "output_type": "stream",
     "text": [
      "100%|██████████| 2/2 [00:15<00:00,  7.63s/it]\n"
     ]
    },
    {
     "name": "stdout",
     "output_type": "stream",
     "text": [
      "[Epoch 10/10, Validation loss: 0.000, accuracy: 1.000, precision: 1.000, recall: 1.000, f1: 1.000\n"
     ]
    }
   ],
   "source": [
    "model = timm.create_model('regnety_002', pretrained=True)\n",
    "num_features = model.head.fc.in_features \n",
    "model.head.fc = nn.Linear(num_features, 2) \n",
    "\n",
    "train(data_dir='/Users/lune/ISP/rolling-in-the-deep/Datasets/kagglecatsanddogs_5340/PetImages', \n",
    "      data_subset_size=cur_subset, \n",
    "      data_train_fraction=0.8, \n",
    "      data_augmentation=True,\n",
    "      dataloader_batch_size=32, \n",
    "      dataloader_num_workers=4, \n",
    "      train_model = model,\n",
    "      train_num_epochs=cur_epochs, \n",
    "      train_learning_rate=0.001, \n",
    "      train_tensorboard=True,\n",
    "      train_tensorboard_dir='Catsdogs/runs_W4/RegNet_002'\n",
    "      )"
   ]
  },
  {
   "cell_type": "markdown",
   "metadata": {},
   "source": [
    "### 040"
   ]
  },
  {
   "cell_type": "code",
   "execution_count": 9,
   "metadata": {},
   "outputs": [
    {
     "name": "stdout",
     "output_type": "stream",
     "text": [
      "19559834 train parameters in 303 groups, model size is 74.6 MB\n",
      "Epoch 1\n"
     ]
    },
    {
     "name": "stderr",
     "output_type": "stream",
     "text": [
      "100%|██████████| 8/8 [01:29<00:00, 11.24s/it]\n",
      "/opt/homebrew/lib/python3.11/site-packages/sklearn/metrics/_classification.py:1469: UndefinedMetricWarning: Recall is ill-defined and being set to 0.0 in labels with no true samples. Use `zero_division` parameter to control this behavior.\n",
      "  _warn_prf(average, modifier, msg_start, len(result))\n"
     ]
    },
    {
     "name": "stdout",
     "output_type": "stream",
     "text": [
      "[Epoch 1/10, Training loss: 0.070, accuracy: 0.996, precision: 0.500, recall: 0.498, f1: 0.499, time: 1.5 min\n"
     ]
    },
    {
     "name": "stderr",
     "output_type": "stream",
     "text": [
      "100%|██████████| 2/2 [00:22<00:00, 11.26s/it]\n"
     ]
    },
    {
     "name": "stdout",
     "output_type": "stream",
     "text": [
      "[Epoch 1/10, Validation loss: 0.000, accuracy: 1.000, precision: 1.000, recall: 1.000, f1: 1.000\n",
      "Epoch 2\n"
     ]
    },
    {
     "name": "stderr",
     "output_type": "stream",
     "text": [
      "100%|██████████| 8/8 [01:29<00:00, 11.22s/it]\n"
     ]
    },
    {
     "name": "stdout",
     "output_type": "stream",
     "text": [
      "[Epoch 2/10, Training loss: 0.000, accuracy: 1.000, precision: 1.000, recall: 1.000, f1: 1.000, time: 1.5 min\n"
     ]
    },
    {
     "name": "stderr",
     "output_type": "stream",
     "text": [
      "100%|██████████| 2/2 [00:22<00:00, 11.33s/it]\n"
     ]
    },
    {
     "name": "stdout",
     "output_type": "stream",
     "text": [
      "[Epoch 2/10, Validation loss: 0.000, accuracy: 1.000, precision: 1.000, recall: 1.000, f1: 1.000\n",
      "Epoch 3\n"
     ]
    },
    {
     "name": "stderr",
     "output_type": "stream",
     "text": [
      "100%|██████████| 8/8 [02:49<00:00, 21.16s/it]\n"
     ]
    },
    {
     "name": "stdout",
     "output_type": "stream",
     "text": [
      "[Epoch 3/10, Training loss: 0.000, accuracy: 1.000, precision: 1.000, recall: 1.000, f1: 1.000, time: 2.8 min\n"
     ]
    },
    {
     "name": "stderr",
     "output_type": "stream",
     "text": [
      "100%|██████████| 2/2 [00:37<00:00, 18.74s/it]\n"
     ]
    },
    {
     "name": "stdout",
     "output_type": "stream",
     "text": [
      "[Epoch 3/10, Validation loss: 0.000, accuracy: 1.000, precision: 1.000, recall: 1.000, f1: 1.000\n",
      "Epoch 4\n"
     ]
    },
    {
     "name": "stderr",
     "output_type": "stream",
     "text": [
      "100%|██████████| 8/8 [03:38<00:00, 27.29s/it]\n"
     ]
    },
    {
     "name": "stdout",
     "output_type": "stream",
     "text": [
      "[Epoch 4/10, Training loss: 0.000, accuracy: 1.000, precision: 1.000, recall: 1.000, f1: 1.000, time: 3.6 min\n"
     ]
    },
    {
     "name": "stderr",
     "output_type": "stream",
     "text": [
      "100%|██████████| 2/2 [00:34<00:00, 17.39s/it]\n"
     ]
    },
    {
     "name": "stdout",
     "output_type": "stream",
     "text": [
      "[Epoch 4/10, Validation loss: 0.000, accuracy: 1.000, precision: 1.000, recall: 1.000, f1: 1.000\n",
      "Epoch 5\n"
     ]
    },
    {
     "name": "stderr",
     "output_type": "stream",
     "text": [
      "100%|██████████| 8/8 [03:39<00:00, 27.40s/it]\n"
     ]
    },
    {
     "name": "stdout",
     "output_type": "stream",
     "text": [
      "[Epoch 5/10, Training loss: 0.000, accuracy: 1.000, precision: 1.000, recall: 1.000, f1: 1.000, time: 3.7 min\n"
     ]
    },
    {
     "name": "stderr",
     "output_type": "stream",
     "text": [
      "100%|██████████| 2/2 [00:36<00:00, 18.47s/it]\n"
     ]
    },
    {
     "name": "stdout",
     "output_type": "stream",
     "text": [
      "[Epoch 5/10, Validation loss: 0.000, accuracy: 1.000, precision: 1.000, recall: 1.000, f1: 1.000\n",
      "Epoch 6\n"
     ]
    },
    {
     "name": "stderr",
     "output_type": "stream",
     "text": [
      "100%|██████████| 8/8 [03:40<00:00, 27.61s/it]\n"
     ]
    },
    {
     "name": "stdout",
     "output_type": "stream",
     "text": [
      "[Epoch 6/10, Training loss: 0.000, accuracy: 1.000, precision: 1.000, recall: 1.000, f1: 1.000, time: 3.7 min\n"
     ]
    },
    {
     "name": "stderr",
     "output_type": "stream",
     "text": [
      "100%|██████████| 2/2 [00:36<00:00, 18.30s/it]\n"
     ]
    },
    {
     "name": "stdout",
     "output_type": "stream",
     "text": [
      "[Epoch 6/10, Validation loss: 0.000, accuracy: 1.000, precision: 1.000, recall: 1.000, f1: 1.000\n",
      "Epoch 7\n"
     ]
    },
    {
     "name": "stderr",
     "output_type": "stream",
     "text": [
      "100%|██████████| 8/8 [03:57<00:00, 29.67s/it]\n"
     ]
    },
    {
     "name": "stdout",
     "output_type": "stream",
     "text": [
      "[Epoch 7/10, Training loss: 0.000, accuracy: 1.000, precision: 1.000, recall: 1.000, f1: 1.000, time: 4.0 min\n"
     ]
    },
    {
     "name": "stderr",
     "output_type": "stream",
     "text": [
      "100%|██████████| 2/2 [00:34<00:00, 17.31s/it]\n"
     ]
    },
    {
     "name": "stdout",
     "output_type": "stream",
     "text": [
      "[Epoch 7/10, Validation loss: 0.000, accuracy: 1.000, precision: 1.000, recall: 1.000, f1: 1.000\n",
      "Epoch 8\n"
     ]
    },
    {
     "name": "stderr",
     "output_type": "stream",
     "text": [
      "100%|██████████| 8/8 [03:09<00:00, 23.70s/it]\n"
     ]
    },
    {
     "name": "stdout",
     "output_type": "stream",
     "text": [
      "[Epoch 8/10, Training loss: 0.000, accuracy: 1.000, precision: 1.000, recall: 1.000, f1: 1.000, time: 3.2 min\n"
     ]
    },
    {
     "name": "stderr",
     "output_type": "stream",
     "text": [
      "100%|██████████| 2/2 [00:22<00:00, 11.36s/it]\n"
     ]
    },
    {
     "name": "stdout",
     "output_type": "stream",
     "text": [
      "[Epoch 8/10, Validation loss: 0.000, accuracy: 1.000, precision: 1.000, recall: 1.000, f1: 1.000\n",
      "Epoch 9\n"
     ]
    },
    {
     "name": "stderr",
     "output_type": "stream",
     "text": [
      "100%|██████████| 8/8 [01:28<00:00, 11.01s/it]\n"
     ]
    },
    {
     "name": "stdout",
     "output_type": "stream",
     "text": [
      "[Epoch 9/10, Training loss: 0.000, accuracy: 1.000, precision: 1.000, recall: 1.000, f1: 1.000, time: 1.5 min\n"
     ]
    },
    {
     "name": "stderr",
     "output_type": "stream",
     "text": [
      "100%|██████████| 2/2 [00:22<00:00, 11.19s/it]\n"
     ]
    },
    {
     "name": "stdout",
     "output_type": "stream",
     "text": [
      "[Epoch 9/10, Validation loss: 0.000, accuracy: 1.000, precision: 1.000, recall: 1.000, f1: 1.000\n",
      "Epoch 10\n"
     ]
    },
    {
     "name": "stderr",
     "output_type": "stream",
     "text": [
      "100%|██████████| 8/8 [01:28<00:00, 11.04s/it]\n"
     ]
    },
    {
     "name": "stdout",
     "output_type": "stream",
     "text": [
      "[Epoch 10/10, Training loss: 0.000, accuracy: 1.000, precision: 1.000, recall: 1.000, f1: 1.000, time: 1.5 min\n"
     ]
    },
    {
     "name": "stderr",
     "output_type": "stream",
     "text": [
      "100%|██████████| 2/2 [00:22<00:00, 11.26s/it]\n"
     ]
    },
    {
     "name": "stdout",
     "output_type": "stream",
     "text": [
      "[Epoch 10/10, Validation loss: 0.000, accuracy: 1.000, precision: 1.000, recall: 1.000, f1: 1.000\n"
     ]
    }
   ],
   "source": [
    "model = timm.create_model('regnety_040', pretrained=True)\n",
    "num_features = model.head.fc.in_features \n",
    "model.head.fc = nn.Linear(num_features, 2) \n",
    "\n",
    "train(data_dir='/Users/lune/ISP/rolling-in-the-deep/Datasets/kagglecatsanddogs_5340/PetImages', \n",
    "      data_subset_size=cur_subset, \n",
    "      data_train_fraction=0.8, \n",
    "      data_augmentation=True,\n",
    "      dataloader_batch_size=32, \n",
    "      dataloader_num_workers=4, \n",
    "      train_model = model,\n",
    "      train_num_epochs=cur_epochs, \n",
    "      train_learning_rate=0.001, \n",
    "      train_tensorboard=True,\n",
    "      train_tensorboard_dir='Catsdogs/runs_W4/RegNet_040'\n",
    "      )"
   ]
  },
  {
   "cell_type": "markdown",
   "metadata": {},
   "source": [
    "## VIT"
   ]
  },
  {
   "cell_type": "markdown",
   "metadata": {},
   "source": [
    "### base"
   ]
  },
  {
   "cell_type": "code",
   "execution_count": 8,
   "metadata": {},
   "outputs": [
    {
     "name": "stdout",
     "output_type": "stream",
     "text": [
      "85800194 train parameters in 152 groups, model size is 327.3 MB\n"
     ]
    },
    {
     "name": "stderr",
     "output_type": "stream",
     "text": [
      "/opt/homebrew/lib/python3.11/site-packages/torch/__init__.py:1777: TracerWarning: Converting a tensor to a Python boolean might cause the trace to be incorrect. We can't record the data flow of Python values, so this value will be treated as a constant in the future. This means that the trace might not generalize to other inputs!\n",
      "  assert condition, message\n"
     ]
    },
    {
     "name": "stdout",
     "output_type": "stream",
     "text": [
      "Epoch 1\n"
     ]
    },
    {
     "name": "stderr",
     "output_type": "stream",
     "text": [
      "100%|██████████| 8/8 [01:26<00:00, 10.79s/it]\n",
      "/opt/homebrew/lib/python3.11/site-packages/sklearn/metrics/_classification.py:1469: UndefinedMetricWarning: Recall is ill-defined and being set to 0.0 in labels with no true samples. Use `zero_division` parameter to control this behavior.\n",
      "  _warn_prf(average, modifier, msg_start, len(result))\n"
     ]
    },
    {
     "name": "stdout",
     "output_type": "stream",
     "text": [
      "[Epoch 1/10, Training loss: 0.044, accuracy: 0.996, precision: 0.500, recall: 0.498, f1: 0.499, time: 1.4 min\n"
     ]
    },
    {
     "name": "stderr",
     "output_type": "stream",
     "text": [
      "100%|██████████| 2/2 [00:17<00:00,  8.83s/it]\n"
     ]
    },
    {
     "name": "stdout",
     "output_type": "stream",
     "text": [
      "[Epoch 1/10, Validation loss: 0.000, accuracy: 1.000, precision: 1.000, recall: 1.000, f1: 1.000\n",
      "Epoch 2\n"
     ]
    },
    {
     "name": "stderr",
     "output_type": "stream",
     "text": [
      "100%|██████████| 8/8 [01:25<00:00, 10.72s/it]\n"
     ]
    },
    {
     "name": "stdout",
     "output_type": "stream",
     "text": [
      "[Epoch 2/10, Training loss: 0.000, accuracy: 1.000, precision: 1.000, recall: 1.000, f1: 1.000, time: 1.4 min\n"
     ]
    },
    {
     "name": "stderr",
     "output_type": "stream",
     "text": [
      "100%|██████████| 2/2 [00:17<00:00,  8.81s/it]\n"
     ]
    },
    {
     "name": "stdout",
     "output_type": "stream",
     "text": [
      "[Epoch 2/10, Validation loss: 0.000, accuracy: 1.000, precision: 1.000, recall: 1.000, f1: 1.000\n",
      "Epoch 3\n"
     ]
    },
    {
     "name": "stderr",
     "output_type": "stream",
     "text": [
      "100%|██████████| 8/8 [01:29<00:00, 11.22s/it]\n"
     ]
    },
    {
     "name": "stdout",
     "output_type": "stream",
     "text": [
      "[Epoch 3/10, Training loss: 0.000, accuracy: 1.000, precision: 1.000, recall: 1.000, f1: 1.000, time: 1.5 min\n"
     ]
    },
    {
     "name": "stderr",
     "output_type": "stream",
     "text": [
      "100%|██████████| 2/2 [00:17<00:00,  8.91s/it]\n"
     ]
    },
    {
     "name": "stdout",
     "output_type": "stream",
     "text": [
      "[Epoch 3/10, Validation loss: 0.000, accuracy: 1.000, precision: 1.000, recall: 1.000, f1: 1.000\n",
      "Epoch 4\n"
     ]
    },
    {
     "name": "stderr",
     "output_type": "stream",
     "text": [
      "100%|██████████| 8/8 [01:27<00:00, 10.99s/it]\n"
     ]
    },
    {
     "name": "stdout",
     "output_type": "stream",
     "text": [
      "[Epoch 4/10, Training loss: 0.000, accuracy: 1.000, precision: 1.000, recall: 1.000, f1: 1.000, time: 1.5 min\n"
     ]
    },
    {
     "name": "stderr",
     "output_type": "stream",
     "text": [
      "100%|██████████| 2/2 [00:17<00:00,  8.85s/it]\n"
     ]
    },
    {
     "name": "stdout",
     "output_type": "stream",
     "text": [
      "[Epoch 4/10, Validation loss: 0.000, accuracy: 1.000, precision: 1.000, recall: 1.000, f1: 1.000\n",
      "Epoch 5\n"
     ]
    },
    {
     "name": "stderr",
     "output_type": "stream",
     "text": [
      "100%|██████████| 8/8 [01:29<00:00, 11.20s/it]\n"
     ]
    },
    {
     "name": "stdout",
     "output_type": "stream",
     "text": [
      "[Epoch 5/10, Training loss: 0.000, accuracy: 1.000, precision: 1.000, recall: 1.000, f1: 1.000, time: 1.5 min\n"
     ]
    },
    {
     "name": "stderr",
     "output_type": "stream",
     "text": [
      "100%|██████████| 2/2 [00:17<00:00,  8.82s/it]\n"
     ]
    },
    {
     "name": "stdout",
     "output_type": "stream",
     "text": [
      "[Epoch 5/10, Validation loss: 0.000, accuracy: 1.000, precision: 1.000, recall: 1.000, f1: 1.000\n",
      "Epoch 6\n"
     ]
    },
    {
     "name": "stderr",
     "output_type": "stream",
     "text": [
      "100%|██████████| 8/8 [01:26<00:00, 10.82s/it]\n"
     ]
    },
    {
     "name": "stdout",
     "output_type": "stream",
     "text": [
      "[Epoch 6/10, Training loss: 0.000, accuracy: 1.000, precision: 1.000, recall: 1.000, f1: 1.000, time: 1.4 min\n"
     ]
    },
    {
     "name": "stderr",
     "output_type": "stream",
     "text": [
      "100%|██████████| 2/2 [00:17<00:00,  8.83s/it]\n"
     ]
    },
    {
     "name": "stdout",
     "output_type": "stream",
     "text": [
      "[Epoch 6/10, Validation loss: 0.000, accuracy: 1.000, precision: 1.000, recall: 1.000, f1: 1.000\n",
      "Epoch 7\n"
     ]
    },
    {
     "name": "stderr",
     "output_type": "stream",
     "text": [
      "100%|██████████| 8/8 [01:29<00:00, 11.25s/it]\n"
     ]
    },
    {
     "name": "stdout",
     "output_type": "stream",
     "text": [
      "[Epoch 7/10, Training loss: 0.000, accuracy: 1.000, precision: 1.000, recall: 1.000, f1: 1.000, time: 1.5 min\n"
     ]
    },
    {
     "name": "stderr",
     "output_type": "stream",
     "text": [
      "100%|██████████| 2/2 [00:17<00:00,  8.97s/it]\n"
     ]
    },
    {
     "name": "stdout",
     "output_type": "stream",
     "text": [
      "[Epoch 7/10, Validation loss: 0.000, accuracy: 1.000, precision: 1.000, recall: 1.000, f1: 1.000\n",
      "Epoch 8\n"
     ]
    },
    {
     "name": "stderr",
     "output_type": "stream",
     "text": [
      "100%|██████████| 8/8 [01:29<00:00, 11.19s/it]\n"
     ]
    },
    {
     "name": "stdout",
     "output_type": "stream",
     "text": [
      "[Epoch 8/10, Training loss: 0.000, accuracy: 1.000, precision: 1.000, recall: 1.000, f1: 1.000, time: 1.5 min\n"
     ]
    },
    {
     "name": "stderr",
     "output_type": "stream",
     "text": [
      "100%|██████████| 2/2 [00:17<00:00,  8.86s/it]\n"
     ]
    },
    {
     "name": "stdout",
     "output_type": "stream",
     "text": [
      "[Epoch 8/10, Validation loss: 0.000, accuracy: 1.000, precision: 1.000, recall: 1.000, f1: 1.000\n",
      "Epoch 9\n"
     ]
    },
    {
     "name": "stderr",
     "output_type": "stream",
     "text": [
      "100%|██████████| 8/8 [01:27<00:00, 10.97s/it]\n"
     ]
    },
    {
     "name": "stdout",
     "output_type": "stream",
     "text": [
      "[Epoch 9/10, Training loss: 0.000, accuracy: 1.000, precision: 1.000, recall: 1.000, f1: 1.000, time: 1.5 min\n"
     ]
    },
    {
     "name": "stderr",
     "output_type": "stream",
     "text": [
      "100%|██████████| 2/2 [00:17<00:00,  8.90s/it]\n"
     ]
    },
    {
     "name": "stdout",
     "output_type": "stream",
     "text": [
      "[Epoch 9/10, Validation loss: 0.000, accuracy: 1.000, precision: 1.000, recall: 1.000, f1: 1.000\n",
      "Epoch 10\n"
     ]
    },
    {
     "name": "stderr",
     "output_type": "stream",
     "text": [
      "100%|██████████| 8/8 [01:30<00:00, 11.27s/it]\n"
     ]
    },
    {
     "name": "stdout",
     "output_type": "stream",
     "text": [
      "[Epoch 10/10, Training loss: 0.000, accuracy: 1.000, precision: 1.000, recall: 1.000, f1: 1.000, time: 1.5 min\n"
     ]
    },
    {
     "name": "stderr",
     "output_type": "stream",
     "text": [
      "100%|██████████| 2/2 [00:17<00:00,  8.84s/it]\n"
     ]
    },
    {
     "name": "stdout",
     "output_type": "stream",
     "text": [
      "[Epoch 10/10, Validation loss: 0.000, accuracy: 1.000, precision: 1.000, recall: 1.000, f1: 1.000\n"
     ]
    }
   ],
   "source": [
    "# VIT\n",
    "model = timm.create_model('vit_base_patch16_224', pretrained=True)\n",
    "num_features = model.head.in_features\n",
    "model.head = nn.Linear(num_features, 2) \n",
    "\n",
    "train(data_dir='/Users/lune/ISP/rolling-in-the-deep/Datasets/kagglecatsanddogs_5340/PetImages', \n",
    "      data_subset_size=cur_subset, \n",
    "      data_train_fraction=0.8, \n",
    "      data_augmentation=True,\n",
    "      dataloader_batch_size=32, \n",
    "      dataloader_num_workers=4, \n",
    "      train_model = model,\n",
    "      train_num_epochs=cur_epochs, \n",
    "      train_learning_rate=0.001, \n",
    "      train_tensorboard=True,\n",
    "      train_tensorboard_dir='Catsdogs/runs_W4/VIT_base_patch16_224'\n",
    "      )"
   ]
  },
  {
   "cell_type": "markdown",
   "metadata": {},
   "source": [
    "### small"
   ]
  },
  {
   "cell_type": "code",
   "execution_count": 13,
   "metadata": {},
   "outputs": [
    {
     "name": "stdout",
     "output_type": "stream",
     "text": [
      "21666434 train parameters in 152 groups, model size is 82.7 MB\n"
     ]
    },
    {
     "name": "stderr",
     "output_type": "stream",
     "text": [
      "/opt/homebrew/lib/python3.11/site-packages/torch/__init__.py:1777: TracerWarning: Converting a tensor to a Python boolean might cause the trace to be incorrect. We can't record the data flow of Python values, so this value will be treated as a constant in the future. This means that the trace might not generalize to other inputs!\n",
      "  assert condition, message\n"
     ]
    },
    {
     "name": "stdout",
     "output_type": "stream",
     "text": [
      "Epoch 1\n"
     ]
    },
    {
     "name": "stderr",
     "output_type": "stream",
     "text": [
      "100%|██████████| 8/8 [00:43<00:00,  5.45s/it]\n",
      "/opt/homebrew/lib/python3.11/site-packages/sklearn/metrics/_classification.py:1469: UndefinedMetricWarning: Recall is ill-defined and being set to 0.0 in labels with no true samples. Use `zero_division` parameter to control this behavior.\n",
      "  _warn_prf(average, modifier, msg_start, len(result))\n"
     ]
    },
    {
     "name": "stdout",
     "output_type": "stream",
     "text": [
      "[Epoch 1/10, Training loss: 0.035, accuracy: 0.988, precision: 0.500, recall: 0.494, f1: 0.497, time: 0.7 min\n"
     ]
    },
    {
     "name": "stderr",
     "output_type": "stream",
     "text": [
      "100%|██████████| 2/2 [00:15<00:00,  7.75s/it]\n"
     ]
    },
    {
     "name": "stdout",
     "output_type": "stream",
     "text": [
      "[Epoch 1/10, Validation loss: 0.000, accuracy: 1.000, precision: 1.000, recall: 1.000, f1: 1.000\n",
      "Epoch 2\n"
     ]
    },
    {
     "name": "stderr",
     "output_type": "stream",
     "text": [
      "100%|██████████| 8/8 [00:44<00:00,  5.51s/it]\n"
     ]
    },
    {
     "name": "stdout",
     "output_type": "stream",
     "text": [
      "[Epoch 2/10, Training loss: 0.000, accuracy: 1.000, precision: 1.000, recall: 1.000, f1: 1.000, time: 0.7 min\n"
     ]
    },
    {
     "name": "stderr",
     "output_type": "stream",
     "text": [
      "100%|██████████| 2/2 [00:15<00:00,  7.73s/it]\n"
     ]
    },
    {
     "name": "stdout",
     "output_type": "stream",
     "text": [
      "[Epoch 2/10, Validation loss: 0.000, accuracy: 1.000, precision: 1.000, recall: 1.000, f1: 1.000\n",
      "Epoch 3\n"
     ]
    },
    {
     "name": "stderr",
     "output_type": "stream",
     "text": [
      "100%|██████████| 8/8 [00:43<00:00,  5.45s/it]\n"
     ]
    },
    {
     "name": "stdout",
     "output_type": "stream",
     "text": [
      "[Epoch 3/10, Training loss: 0.000, accuracy: 1.000, precision: 1.000, recall: 1.000, f1: 1.000, time: 0.7 min\n"
     ]
    },
    {
     "name": "stderr",
     "output_type": "stream",
     "text": [
      "100%|██████████| 2/2 [00:15<00:00,  7.77s/it]\n"
     ]
    },
    {
     "name": "stdout",
     "output_type": "stream",
     "text": [
      "[Epoch 3/10, Validation loss: 0.000, accuracy: 1.000, precision: 1.000, recall: 1.000, f1: 1.000\n",
      "Epoch 4\n"
     ]
    },
    {
     "name": "stderr",
     "output_type": "stream",
     "text": [
      "100%|██████████| 8/8 [00:44<00:00,  5.51s/it]\n"
     ]
    },
    {
     "name": "stdout",
     "output_type": "stream",
     "text": [
      "[Epoch 4/10, Training loss: 0.000, accuracy: 1.000, precision: 1.000, recall: 1.000, f1: 1.000, time: 0.7 min\n"
     ]
    },
    {
     "name": "stderr",
     "output_type": "stream",
     "text": [
      "100%|██████████| 2/2 [00:15<00:00,  7.78s/it]\n"
     ]
    },
    {
     "name": "stdout",
     "output_type": "stream",
     "text": [
      "[Epoch 4/10, Validation loss: 0.000, accuracy: 1.000, precision: 1.000, recall: 1.000, f1: 1.000\n",
      "Epoch 5\n"
     ]
    },
    {
     "name": "stderr",
     "output_type": "stream",
     "text": [
      "100%|██████████| 8/8 [00:42<00:00,  5.26s/it]\n"
     ]
    },
    {
     "name": "stdout",
     "output_type": "stream",
     "text": [
      "[Epoch 5/10, Training loss: 0.000, accuracy: 1.000, precision: 1.000, recall: 1.000, f1: 1.000, time: 0.7 min\n"
     ]
    },
    {
     "name": "stderr",
     "output_type": "stream",
     "text": [
      "100%|██████████| 2/2 [00:15<00:00,  7.70s/it]\n"
     ]
    },
    {
     "name": "stdout",
     "output_type": "stream",
     "text": [
      "[Epoch 5/10, Validation loss: 0.000, accuracy: 1.000, precision: 1.000, recall: 1.000, f1: 1.000\n",
      "Epoch 6\n"
     ]
    },
    {
     "name": "stderr",
     "output_type": "stream",
     "text": [
      "100%|██████████| 8/8 [00:42<00:00,  5.31s/it]\n"
     ]
    },
    {
     "name": "stdout",
     "output_type": "stream",
     "text": [
      "[Epoch 6/10, Training loss: 0.000, accuracy: 1.000, precision: 1.000, recall: 1.000, f1: 1.000, time: 0.7 min\n"
     ]
    },
    {
     "name": "stderr",
     "output_type": "stream",
     "text": [
      "100%|██████████| 2/2 [00:15<00:00,  7.84s/it]\n"
     ]
    },
    {
     "name": "stdout",
     "output_type": "stream",
     "text": [
      "[Epoch 6/10, Validation loss: 0.000, accuracy: 1.000, precision: 1.000, recall: 1.000, f1: 1.000\n",
      "Epoch 7\n"
     ]
    },
    {
     "name": "stderr",
     "output_type": "stream",
     "text": [
      "100%|██████████| 8/8 [00:43<00:00,  5.40s/it]\n"
     ]
    },
    {
     "name": "stdout",
     "output_type": "stream",
     "text": [
      "[Epoch 7/10, Training loss: 0.000, accuracy: 1.000, precision: 1.000, recall: 1.000, f1: 1.000, time: 0.7 min\n"
     ]
    },
    {
     "name": "stderr",
     "output_type": "stream",
     "text": [
      "100%|██████████| 2/2 [00:15<00:00,  7.77s/it]\n"
     ]
    },
    {
     "name": "stdout",
     "output_type": "stream",
     "text": [
      "[Epoch 7/10, Validation loss: 0.000, accuracy: 1.000, precision: 1.000, recall: 1.000, f1: 1.000\n",
      "Epoch 8\n"
     ]
    },
    {
     "name": "stderr",
     "output_type": "stream",
     "text": [
      "100%|██████████| 8/8 [00:44<00:00,  5.56s/it]\n"
     ]
    },
    {
     "name": "stdout",
     "output_type": "stream",
     "text": [
      "[Epoch 8/10, Training loss: 0.000, accuracy: 1.000, precision: 1.000, recall: 1.000, f1: 1.000, time: 0.7 min\n"
     ]
    },
    {
     "name": "stderr",
     "output_type": "stream",
     "text": [
      "100%|██████████| 2/2 [00:15<00:00,  7.85s/it]\n"
     ]
    },
    {
     "name": "stdout",
     "output_type": "stream",
     "text": [
      "[Epoch 8/10, Validation loss: 0.000, accuracy: 1.000, precision: 1.000, recall: 1.000, f1: 1.000\n",
      "Epoch 9\n"
     ]
    },
    {
     "name": "stderr",
     "output_type": "stream",
     "text": [
      "100%|██████████| 8/8 [00:42<00:00,  5.31s/it]\n"
     ]
    },
    {
     "name": "stdout",
     "output_type": "stream",
     "text": [
      "[Epoch 9/10, Training loss: 0.000, accuracy: 1.000, precision: 1.000, recall: 1.000, f1: 1.000, time: 0.7 min\n"
     ]
    },
    {
     "name": "stderr",
     "output_type": "stream",
     "text": [
      "100%|██████████| 2/2 [00:15<00:00,  7.76s/it]\n"
     ]
    },
    {
     "name": "stdout",
     "output_type": "stream",
     "text": [
      "[Epoch 9/10, Validation loss: 0.000, accuracy: 1.000, precision: 1.000, recall: 1.000, f1: 1.000\n",
      "Epoch 10\n"
     ]
    },
    {
     "name": "stderr",
     "output_type": "stream",
     "text": [
      "100%|██████████| 8/8 [00:44<00:00,  5.56s/it]\n"
     ]
    },
    {
     "name": "stdout",
     "output_type": "stream",
     "text": [
      "[Epoch 10/10, Training loss: 0.000, accuracy: 1.000, precision: 1.000, recall: 1.000, f1: 1.000, time: 0.7 min\n"
     ]
    },
    {
     "name": "stderr",
     "output_type": "stream",
     "text": [
      "100%|██████████| 2/2 [00:15<00:00,  7.76s/it]\n"
     ]
    },
    {
     "name": "stdout",
     "output_type": "stream",
     "text": [
      "[Epoch 10/10, Validation loss: 0.000, accuracy: 1.000, precision: 1.000, recall: 1.000, f1: 1.000\n"
     ]
    }
   ],
   "source": [
    "# VIT\n",
    "model = timm.create_model('vit_small_patch16_224', pretrained=True)\n",
    "num_features = model.head.in_features\n",
    "model.head = nn.Linear(num_features, 2) \n",
    "\n",
    "train(data_dir='/Users/lune/ISP/rolling-in-the-deep/Datasets/kagglecatsanddogs_5340/PetImages', \n",
    "      data_subset_size=cur_subset, \n",
    "      data_train_fraction=0.8, \n",
    "      data_augmentation=True,\n",
    "      dataloader_batch_size=32, \n",
    "      dataloader_num_workers=4, \n",
    "      train_model = model,\n",
    "      train_num_epochs=cur_epochs, \n",
    "      train_learning_rate=0.001, \n",
    "      train_tensorboard=True,\n",
    "      train_tensorboard_dir='Catsdogs/runs_W4/VIT_small_patch16_224'\n",
    "      )"
   ]
  },
  {
   "cell_type": "code",
   "execution_count": null,
   "metadata": {},
   "outputs": [],
   "source": [
    "#torch.save(model, proj_dir + '/Catsdogs/Models/' + model_name + '.pth')\n",
    "#model = torch.load('model.pth')"
   ]
  },
  {
   "cell_type": "markdown",
   "metadata": {},
   "source": [
    "# CAM"
   ]
  },
  {
   "cell_type": "code",
   "execution_count": 141,
   "metadata": {},
   "outputs": [
    {
     "data": {
      "image/png": "[encoded data removed]",
      "text/plain": [
       "<Figure size 1000x500 with 1 Axes>"
      ]
     },
     "metadata": {},
     "output_type": "display_data"
    }
   ],
   "source": [
    "# Image to show-------------------------------------------------\n",
    "image_path = proj_dir + \"/Datasets/kagglecatsanddogs_5340/PetImages/Cat/10.jpg\"\n",
    "\n",
    "# Load the image with PIL\n",
    "image = Image.open(image_path)\n",
    "input_tensor = transform(image) #input_tensor = torch.randn(1, 3, 224, 224)\n",
    "image = image.resize((224, 224))\n",
    "image = image.convert('RGB')\n",
    "\n",
    "# to np array\n",
    "image_np = np.array(image)\n",
    "image_np = image_np.astype(np.float32)\n",
    "image_np /= 255.0\n",
    "\n",
    "# CAM------------------------------------------------------------\n",
    "# last layer that will be used for generating the CAM\n",
    "target_layers = [model._blocks[-1]]\n",
    "\n",
    "cam = GradCAM(model=model, target_layers=target_layers)\n",
    "\n",
    "target_category = None  # Or specify the class you want to visualize\n",
    "grayscale_cam = cam(input_tensor.unsqueeze(0), target_category)  # Add batch dimension\n",
    "grayscale_cam = grayscale_cam[0, :]  # Remove batch dimension\n",
    "\n",
    "# Vizualization---------------------------------------------------\n",
    "visualization = show_cam_on_image(image_np, grayscale_cam, use_rgb=True)\n",
    "\n",
    "plt.figure(figsize=(10, 5))  # Set the figure size as desired\n",
    "plt.imshow(visualization)  # Show the image\n",
    "plt.axis('off')  # Hide axes\n",
    "plt.title('Class Activation Map')  # Optional: add a title\n",
    "plt.show()"
   ]
  },
  {
   "cell_type": "markdown",
   "metadata": {},
   "source": [
    "# Maybe will be useful later"
   ]
  },
  {
   "cell_type": "code",
   "execution_count": null,
   "metadata": {},
   "outputs": [],
   "source": [
    "# Observe images in the folder\n",
    "\n",
    "dataset_dir = proj_dir + '/Datasets/kagglecatsanddogs_5340/PetImages' # was initially downloaded from Microsoft site\n",
    "\n",
    "# Cats\n",
    "rdm_img_list = glob.glob(os.path.join(dataset_dir + \"/Cat\",'*.jpg'))\n",
    "random_idx = np.random.randint(1, len(rdm_img_list), size=9)\n",
    "\n",
    "fig, axes = plt.subplots(3, 3, figsize=(16, 12))\n",
    "for idx, ax in enumerate(axes.ravel()):\n",
    "    img = Image.open(rdm_img_list[idx])\n",
    "    ax.imshow(img)\n",
    "\n",
    "# Model info\n",
    "'''\n",
    "summary(model, (3, 224, 224))\n",
    "\n",
    "for name, param in model.named_parameters():\n",
    "    print(f\"Layer: {name} | Size: {param.size()} | Values : {param[:2]}\")  # prints first 2 values of the layer weights\n",
    "\n",
    "for name, layer in model.named_children():\n",
    "    print(f\"Layer: {name}\")\n",
    "    for param_name, param in layer.named_parameters(recurse=False):\n",
    "        print(f\"  Parameter: {param_name}, Shape: {param.size()}\")'''"
   ]
  }
 ],
 "metadata": {
  "kernelspec": {
   "display_name": "Python 3",
   "language": "python",
   "name": "python3"
  },
  "language_info": {
   "codemirror_mode": {
    "name": "ipython",
    "version": 3
   },
   "file_extension": ".py",
   "mimetype": "text/x-python",
   "name": "python",
   "nbconvert_exporter": "python",
   "pygments_lexer": "ipython3",
   "version": "3.11.9"
  },
  "orig_nbformat": 4
 },
 "nbformat": 4,
 "nbformat_minor": 2
}
